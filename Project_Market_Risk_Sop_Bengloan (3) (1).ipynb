{
 "cells": [
  {
   "cell_type": "markdown",
   "metadata": {},
   "source": [
    "# Project Market Risk"
   ]
  },
  {
   "cell_type": "markdown",
   "metadata": {},
   "source": [
    "Majeure : Majeure: Ingénieurie Financière\n",
    "\n",
    "Gilles Delpy Sop Fofou \n",
    " ||  Barthélémy Bengloan"
   ]
  },
  {
   "cell_type": "code",
   "execution_count": 1,
   "metadata": {},
   "outputs": [],
   "source": [
    "import pandas as pd\n",
    "import numpy as np\n",
    "import matplotlib.pyplot as plt"
   ]
  },
  {
   "cell_type": "markdown",
   "metadata": {},
   "source": [
    "### Question A (Ex2, part of Q1 and of Q2 of TD1) "
   ]
  },
  {
   "cell_type": "markdown",
   "metadata": {},
   "source": [
    "#### A.a)"
   ]
  },
  {
   "cell_type": "markdown",
   "metadata": {},
   "source": [
    "Firstly we are going to prepare the dataset on which we'll be working to answer the question"
   ]
  },
  {
   "cell_type": "markdown",
   "metadata": {},
   "source": [
    "Importation of the Natixis Stock"
   ]
  },
  {
   "cell_type": "code",
   "execution_count": 12,
   "metadata": {},
   "outputs": [
    {
     "data": {
      "text/html": [
       "<div>\n",
       "<style scoped>\n",
       "    .dataframe tbody tr th:only-of-type {\n",
       "        vertical-align: middle;\n",
       "    }\n",
       "\n",
       "    .dataframe tbody tr th {\n",
       "        vertical-align: top;\n",
       "    }\n",
       "\n",
       "    .dataframe thead th {\n",
       "        text-align: right;\n",
       "    }\n",
       "</style>\n",
       "<table border=\"1\" class=\"dataframe\">\n",
       "  <thead>\n",
       "    <tr style=\"text-align: right;\">\n",
       "      <th></th>\n",
       "      <th>date</th>\n",
       "      <th>price</th>\n",
       "    </tr>\n",
       "  </thead>\n",
       "  <tbody>\n",
       "    <tr>\n",
       "      <th>0</th>\n",
       "      <td>02/01/2015</td>\n",
       "      <td>5.621</td>\n",
       "    </tr>\n",
       "    <tr>\n",
       "      <th>1</th>\n",
       "      <td>05/01/2015</td>\n",
       "      <td>5.424</td>\n",
       "    </tr>\n",
       "    <tr>\n",
       "      <th>2</th>\n",
       "      <td>06/01/2015</td>\n",
       "      <td>5.329</td>\n",
       "    </tr>\n",
       "    <tr>\n",
       "      <th>3</th>\n",
       "      <td>07/01/2015</td>\n",
       "      <td>5.224</td>\n",
       "    </tr>\n",
       "    <tr>\n",
       "      <th>4</th>\n",
       "      <td>08/01/2015</td>\n",
       "      <td>5.453</td>\n",
       "    </tr>\n",
       "    <tr>\n",
       "      <th>...</th>\n",
       "      <td>...</td>\n",
       "      <td>...</td>\n",
       "    </tr>\n",
       "    <tr>\n",
       "      <th>1018</th>\n",
       "      <td>21/12/2018</td>\n",
       "      <td>4.045</td>\n",
       "    </tr>\n",
       "    <tr>\n",
       "      <th>1019</th>\n",
       "      <td>24/12/2018</td>\n",
       "      <td>4.010</td>\n",
       "    </tr>\n",
       "    <tr>\n",
       "      <th>1020</th>\n",
       "      <td>27/12/2018</td>\n",
       "      <td>3.938</td>\n",
       "    </tr>\n",
       "    <tr>\n",
       "      <th>1021</th>\n",
       "      <td>28/12/2018</td>\n",
       "      <td>4.088</td>\n",
       "    </tr>\n",
       "    <tr>\n",
       "      <th>1022</th>\n",
       "      <td>31/12/2018</td>\n",
       "      <td>4.119</td>\n",
       "    </tr>\n",
       "  </tbody>\n",
       "</table>\n",
       "<p>1023 rows × 2 columns</p>\n",
       "</div>"
      ],
      "text/plain": [
       "            date  price\n",
       "0     02/01/2015  5.621\n",
       "1     05/01/2015  5.424\n",
       "2     06/01/2015  5.329\n",
       "3     07/01/2015  5.224\n",
       "4     08/01/2015  5.453\n",
       "...          ...    ...\n",
       "1018  21/12/2018  4.045\n",
       "1019  24/12/2018  4.010\n",
       "1020  27/12/2018  3.938\n",
       "1021  28/12/2018  4.088\n",
       "1022  31/12/2018  4.119\n",
       "\n",
       "[1023 rows x 2 columns]"
      ]
     },
     "execution_count": 12,
     "metadata": {},
     "output_type": "execute_result"
    }
   ],
   "source": [
    "data = pd.read_csv(\"TD1 natixis.csv\", sep = \";\", decimal = \",\")\n",
    "data"
   ]
  },
  {
   "cell_type": "code",
   "execution_count": 13,
   "metadata": {},
   "outputs": [
    {
     "data": {
      "text/plain": [
       "date      object\n",
       "price    float64\n",
       "dtype: object"
      ]
     },
     "execution_count": 13,
     "metadata": {},
     "output_type": "execute_result"
    }
   ],
   "source": [
    "data.dtypes"
   ]
  },
  {
   "cell_type": "markdown",
   "metadata": {},
   "source": [
    "we want to manipulate date so let's convert them to DateTime."
   ]
  },
  {
   "cell_type": "code",
   "execution_count": 14,
   "metadata": {},
   "outputs": [
    {
     "data": {
      "text/html": [
       "<div>\n",
       "<style scoped>\n",
       "    .dataframe tbody tr th:only-of-type {\n",
       "        vertical-align: middle;\n",
       "    }\n",
       "\n",
       "    .dataframe tbody tr th {\n",
       "        vertical-align: top;\n",
       "    }\n",
       "\n",
       "    .dataframe thead th {\n",
       "        text-align: right;\n",
       "    }\n",
       "</style>\n",
       "<table border=\"1\" class=\"dataframe\">\n",
       "  <thead>\n",
       "    <tr style=\"text-align: right;\">\n",
       "      <th></th>\n",
       "      <th>date</th>\n",
       "      <th>price</th>\n",
       "    </tr>\n",
       "  </thead>\n",
       "  <tbody>\n",
       "    <tr>\n",
       "      <th>0</th>\n",
       "      <td>2015-01-02</td>\n",
       "      <td>5.621</td>\n",
       "    </tr>\n",
       "    <tr>\n",
       "      <th>1</th>\n",
       "      <td>2015-01-05</td>\n",
       "      <td>5.424</td>\n",
       "    </tr>\n",
       "    <tr>\n",
       "      <th>2</th>\n",
       "      <td>2015-01-06</td>\n",
       "      <td>5.329</td>\n",
       "    </tr>\n",
       "    <tr>\n",
       "      <th>3</th>\n",
       "      <td>2015-01-07</td>\n",
       "      <td>5.224</td>\n",
       "    </tr>\n",
       "    <tr>\n",
       "      <th>4</th>\n",
       "      <td>2015-01-08</td>\n",
       "      <td>5.453</td>\n",
       "    </tr>\n",
       "    <tr>\n",
       "      <th>...</th>\n",
       "      <td>...</td>\n",
       "      <td>...</td>\n",
       "    </tr>\n",
       "    <tr>\n",
       "      <th>1018</th>\n",
       "      <td>2018-12-21</td>\n",
       "      <td>4.045</td>\n",
       "    </tr>\n",
       "    <tr>\n",
       "      <th>1019</th>\n",
       "      <td>2018-12-24</td>\n",
       "      <td>4.010</td>\n",
       "    </tr>\n",
       "    <tr>\n",
       "      <th>1020</th>\n",
       "      <td>2018-12-27</td>\n",
       "      <td>3.938</td>\n",
       "    </tr>\n",
       "    <tr>\n",
       "      <th>1021</th>\n",
       "      <td>2018-12-28</td>\n",
       "      <td>4.088</td>\n",
       "    </tr>\n",
       "    <tr>\n",
       "      <th>1022</th>\n",
       "      <td>2018-12-31</td>\n",
       "      <td>4.119</td>\n",
       "    </tr>\n",
       "  </tbody>\n",
       "</table>\n",
       "<p>1023 rows × 2 columns</p>\n",
       "</div>"
      ],
      "text/plain": [
       "           date  price\n",
       "0    2015-01-02  5.621\n",
       "1    2015-01-05  5.424\n",
       "2    2015-01-06  5.329\n",
       "3    2015-01-07  5.224\n",
       "4    2015-01-08  5.453\n",
       "...         ...    ...\n",
       "1018 2018-12-21  4.045\n",
       "1019 2018-12-24  4.010\n",
       "1020 2018-12-27  3.938\n",
       "1021 2018-12-28  4.088\n",
       "1022 2018-12-31  4.119\n",
       "\n",
       "[1023 rows x 2 columns]"
      ]
     },
     "execution_count": 14,
     "metadata": {},
     "output_type": "execute_result"
    }
   ],
   "source": [
    "data[\"date\"] = pd.to_datetime(data[\"date\"], format=\"%d/%m/%Y\")\n",
    "data"
   ]
  },
  {
   "cell_type": "markdown",
   "metadata": {},
   "source": [
    "Let's compute the returns"
   ]
  },
  {
   "cell_type": "code",
   "execution_count": 15,
   "metadata": {},
   "outputs": [
    {
     "data": {
      "text/html": [
       "<div>\n",
       "<style scoped>\n",
       "    .dataframe tbody tr th:only-of-type {\n",
       "        vertical-align: middle;\n",
       "    }\n",
       "\n",
       "    .dataframe tbody tr th {\n",
       "        vertical-align: top;\n",
       "    }\n",
       "\n",
       "    .dataframe thead th {\n",
       "        text-align: right;\n",
       "    }\n",
       "</style>\n",
       "<table border=\"1\" class=\"dataframe\">\n",
       "  <thead>\n",
       "    <tr style=\"text-align: right;\">\n",
       "      <th></th>\n",
       "      <th>date</th>\n",
       "      <th>price</th>\n",
       "      <th>price_return</th>\n",
       "    </tr>\n",
       "  </thead>\n",
       "  <tbody>\n",
       "    <tr>\n",
       "      <th>0</th>\n",
       "      <td>2015-01-02</td>\n",
       "      <td>5.621</td>\n",
       "      <td>NaN</td>\n",
       "    </tr>\n",
       "    <tr>\n",
       "      <th>1</th>\n",
       "      <td>2015-01-05</td>\n",
       "      <td>5.424</td>\n",
       "      <td>-0.035047</td>\n",
       "    </tr>\n",
       "    <tr>\n",
       "      <th>2</th>\n",
       "      <td>2015-01-06</td>\n",
       "      <td>5.329</td>\n",
       "      <td>-0.017515</td>\n",
       "    </tr>\n",
       "    <tr>\n",
       "      <th>3</th>\n",
       "      <td>2015-01-07</td>\n",
       "      <td>5.224</td>\n",
       "      <td>-0.019704</td>\n",
       "    </tr>\n",
       "    <tr>\n",
       "      <th>4</th>\n",
       "      <td>2015-01-08</td>\n",
       "      <td>5.453</td>\n",
       "      <td>0.043836</td>\n",
       "    </tr>\n",
       "    <tr>\n",
       "      <th>...</th>\n",
       "      <td>...</td>\n",
       "      <td>...</td>\n",
       "      <td>...</td>\n",
       "    </tr>\n",
       "    <tr>\n",
       "      <th>1018</th>\n",
       "      <td>2018-12-21</td>\n",
       "      <td>4.045</td>\n",
       "      <td>-0.001481</td>\n",
       "    </tr>\n",
       "    <tr>\n",
       "      <th>1019</th>\n",
       "      <td>2018-12-24</td>\n",
       "      <td>4.010</td>\n",
       "      <td>-0.008653</td>\n",
       "    </tr>\n",
       "    <tr>\n",
       "      <th>1020</th>\n",
       "      <td>2018-12-27</td>\n",
       "      <td>3.938</td>\n",
       "      <td>-0.017955</td>\n",
       "    </tr>\n",
       "    <tr>\n",
       "      <th>1021</th>\n",
       "      <td>2018-12-28</td>\n",
       "      <td>4.088</td>\n",
       "      <td>0.038090</td>\n",
       "    </tr>\n",
       "    <tr>\n",
       "      <th>1022</th>\n",
       "      <td>2018-12-31</td>\n",
       "      <td>4.119</td>\n",
       "      <td>0.007583</td>\n",
       "    </tr>\n",
       "  </tbody>\n",
       "</table>\n",
       "<p>1023 rows × 3 columns</p>\n",
       "</div>"
      ],
      "text/plain": [
       "           date  price  price_return\n",
       "0    2015-01-02  5.621           NaN\n",
       "1    2015-01-05  5.424     -0.035047\n",
       "2    2015-01-06  5.329     -0.017515\n",
       "3    2015-01-07  5.224     -0.019704\n",
       "4    2015-01-08  5.453      0.043836\n",
       "...         ...    ...           ...\n",
       "1018 2018-12-21  4.045     -0.001481\n",
       "1019 2018-12-24  4.010     -0.008653\n",
       "1020 2018-12-27  3.938     -0.017955\n",
       "1021 2018-12-28  4.088      0.038090\n",
       "1022 2018-12-31  4.119      0.007583\n",
       "\n",
       "[1023 rows x 3 columns]"
      ]
     },
     "execution_count": 15,
     "metadata": {},
     "output_type": "execute_result"
    }
   ],
   "source": [
    "data['price_return'] = data['price'].pct_change()\n",
    "data"
   ]
  },
  {
   "cell_type": "markdown",
   "metadata": {},
   "source": [
    "For the rest of the manipulations, as the first return is not defined, we will delete it and manipulate the data between the years 2015 and 2016."
   ]
  },
  {
   "cell_type": "code",
   "execution_count": 16,
   "metadata": {},
   "outputs": [
    {
     "data": {
      "text/html": [
       "<div>\n",
       "<style scoped>\n",
       "    .dataframe tbody tr th:only-of-type {\n",
       "        vertical-align: middle;\n",
       "    }\n",
       "\n",
       "    .dataframe tbody tr th {\n",
       "        vertical-align: top;\n",
       "    }\n",
       "\n",
       "    .dataframe thead th {\n",
       "        text-align: right;\n",
       "    }\n",
       "</style>\n",
       "<table border=\"1\" class=\"dataframe\">\n",
       "  <thead>\n",
       "    <tr style=\"text-align: right;\">\n",
       "      <th></th>\n",
       "      <th>date</th>\n",
       "      <th>price</th>\n",
       "      <th>price_return</th>\n",
       "    </tr>\n",
       "  </thead>\n",
       "  <tbody>\n",
       "    <tr>\n",
       "      <th>1</th>\n",
       "      <td>2015-01-05</td>\n",
       "      <td>5.424</td>\n",
       "      <td>-0.035047</td>\n",
       "    </tr>\n",
       "    <tr>\n",
       "      <th>2</th>\n",
       "      <td>2015-01-06</td>\n",
       "      <td>5.329</td>\n",
       "      <td>-0.017515</td>\n",
       "    </tr>\n",
       "    <tr>\n",
       "      <th>3</th>\n",
       "      <td>2015-01-07</td>\n",
       "      <td>5.224</td>\n",
       "      <td>-0.019704</td>\n",
       "    </tr>\n",
       "    <tr>\n",
       "      <th>4</th>\n",
       "      <td>2015-01-08</td>\n",
       "      <td>5.453</td>\n",
       "      <td>0.043836</td>\n",
       "    </tr>\n",
       "    <tr>\n",
       "      <th>5</th>\n",
       "      <td>2015-01-09</td>\n",
       "      <td>5.340</td>\n",
       "      <td>-0.020723</td>\n",
       "    </tr>\n",
       "    <tr>\n",
       "      <th>...</th>\n",
       "      <td>...</td>\n",
       "      <td>...</td>\n",
       "      <td>...</td>\n",
       "    </tr>\n",
       "    <tr>\n",
       "      <th>508</th>\n",
       "      <td>2016-12-23</td>\n",
       "      <td>5.376</td>\n",
       "      <td>-0.008118</td>\n",
       "    </tr>\n",
       "    <tr>\n",
       "      <th>509</th>\n",
       "      <td>2016-12-27</td>\n",
       "      <td>5.380</td>\n",
       "      <td>0.000744</td>\n",
       "    </tr>\n",
       "    <tr>\n",
       "      <th>510</th>\n",
       "      <td>2016-12-28</td>\n",
       "      <td>5.379</td>\n",
       "      <td>-0.000186</td>\n",
       "    </tr>\n",
       "    <tr>\n",
       "      <th>511</th>\n",
       "      <td>2016-12-29</td>\n",
       "      <td>5.328</td>\n",
       "      <td>-0.009481</td>\n",
       "    </tr>\n",
       "    <tr>\n",
       "      <th>512</th>\n",
       "      <td>2016-12-30</td>\n",
       "      <td>5.360</td>\n",
       "      <td>0.006006</td>\n",
       "    </tr>\n",
       "  </tbody>\n",
       "</table>\n",
       "<p>512 rows × 3 columns</p>\n",
       "</div>"
      ],
      "text/plain": [
       "          date  price  price_return\n",
       "1   2015-01-05  5.424     -0.035047\n",
       "2   2015-01-06  5.329     -0.017515\n",
       "3   2015-01-07  5.224     -0.019704\n",
       "4   2015-01-08  5.453      0.043836\n",
       "5   2015-01-09  5.340     -0.020723\n",
       "..         ...    ...           ...\n",
       "508 2016-12-23  5.376     -0.008118\n",
       "509 2016-12-27  5.380      0.000744\n",
       "510 2016-12-28  5.379     -0.000186\n",
       "511 2016-12-29  5.328     -0.009481\n",
       "512 2016-12-30  5.360      0.006006\n",
       "\n",
       "[512 rows x 3 columns]"
      ]
     },
     "execution_count": 16,
     "metadata": {},
     "output_type": "execute_result"
    }
   ],
   "source": [
    "data_15_16 = data[data[\"date\"].dt.year < 2017].copy()\n",
    "data_15_16.dropna(inplace = True)\n",
    "data_15_16"
   ]
  },
  {
   "cell_type": "markdown",
   "metadata": {},
   "source": [
    "Now that our datset is ready we can answer the question !"
   ]
  },
  {
   "cell_type": "markdown",
   "metadata": {},
   "source": [
    "Non-parametric VaR is defined using the non-parametric Kernel distribution :\n",
    "$$\n",
    "\\hat{F}_n(x) := \\frac{1}{n} \\sum_{i = 1}^n Kappa \\left(\\frac{x-X_i}{h}\\right)\n",
    "$$\n",
    "Where :\n",
    "- $n$ : number of observations.\n",
    "- $h$ : bandwith, smoothing parameter. \n",
    "- $Kappa$ : the logistic Kernel \n"
   ]
  },
  {
   "cell_type": "markdown",
   "metadata": {},
   "source": [
    "The logistic Kernel defined :\n",
    "$$\n",
    "Kappa(x) = \\frac{1}{1 + e^{-x}}, \\quad K(x) = \\frac{e^{-x}}{1 - e^{-x}}.\n",
    "$$"
   ]
  },
  {
   "cell_type": "markdown",
   "metadata": {},
   "source": [
    "We define the Kernel function and then the estimator of $F$ :"
   ]
  },
  {
   "cell_type": "code",
   "execution_count": 17,
   "metadata": {},
   "outputs": [],
   "source": [
    "K = lambda x: 1/(1 + np.exp(-x)) # Logistic distribution\n",
    "\n",
    "def F_Kernel_Estimator(data, h, x):\n",
    "    n = len(data)\n",
    "    return 1/n * sum([K((x - data[i])/h) for i in range(n)])\n"
   ]
  },
  {
   "cell_type": "markdown",
   "metadata": {},
   "source": [
    "We're also going to make a vectorised version, as we're going to take vectors into account. "
   ]
  },
  {
   "cell_type": "code",
   "execution_count": 18,
   "metadata": {},
   "outputs": [],
   "source": [
    "def F_Kernel_Estimator_Vec(data, h, X):\n",
    "    n = len(data)\n",
    "    return np.array([np.sum(1 / (1 + np.exp(-(x - data) / h))) / n for x in X])"
   ]
  },
  {
   "cell_type": "markdown",
   "metadata": {},
   "source": [
    "### "
   ]
  },
  {
   "cell_type": "markdown",
   "metadata": {},
   "source": [
    " Now to chose the right bandwidth, we will use a graph and test for different value of h "
   ]
  },
  {
   "cell_type": "code",
   "execution_count": 19,
   "metadata": {},
   "outputs": [
    {
     "name": "stderr",
     "output_type": "stream",
     "text": [
      "/opt/anaconda3/lib/python3.11/site-packages/pandas/core/arraylike.py:396: RuntimeWarning: overflow encountered in exp\n",
      "  result = getattr(ufunc, method)(*inputs, **kwargs)\n"
     ]
    },
    {
     "data": {
      "image/png": "[encoded data removed]",
      "text/plain": [
       "<Figure size 1000x600 with 1 Axes>"
      ]
     },
     "metadata": {},
     "output_type": "display_data"
    }
   ],
   "source": [
    "price_return = data_15_16['price_return']\n",
    "\n",
    "x_values = np.linspace(price_return.min(), price_return.max(), 512) # Values for the x-axis, starting from the minimum value of the data to the maximum value.\n",
    "\n",
    "H = [0.01, 0.009, 0.005, 0.001, 0.0001] # Bandwidths.\n",
    "\n",
    "plt.figure(figsize = (10, 6))\n",
    "plt.hist(price_return, bins = 100, density = True, alpha = 0.5, label = 'Histogram (Data)', cumulative = True) # Plotting the cdf of the data.\n",
    "for h in H:\n",
    "    kde = F_Kernel_Estimator_Vec(price_return, h, x_values)\n",
    "    plt.plot(x_values, kde, label = f'KDE with h = {h}')\n",
    "    \n",
    "plt.title('Kernel Density Estimation with Logistic Kernel')\n",
    "plt.xlabel('Price Returns')\n",
    "plt.ylabel('cumulative distribution function')\n",
    "plt.legend()\n",
    "plt.grid()\n",
    "plt.show()"
   ]
  },
  {
   "cell_type": "markdown",
   "metadata": {},
   "source": [
    "The kernel density estimation for $h = 0.01$ or $h = 0.009$ smoothes the distribution a little too strongly unlinke the parameter $h = 0.0001$ which over-learns the distribution"
   ]
  },
  {
   "cell_type": "markdown",
   "metadata": {},
   "source": [
    "So now we only have $h = 0.005$ and $h = 0.001$ , we want to focus on the lower tail of the distribution. Since these are price returns, the VaR will be on the lower end of the graph. If we zoom in on that part of the graph :"
   ]
  },
  {
   "cell_type": "code",
   "execution_count": 20,
   "metadata": {},
   "outputs": [
    {
     "data": {
      "image/png": "[encoded data removed]",
      "text/plain": [
       "<Figure size 1000x600 with 1 Axes>"
      ]
     },
     "metadata": {},
     "output_type": "display_data"
    }
   ],
   "source": [
    "H = [0.005, 0.001]\n",
    "plt.figure(figsize = (10, 6))\n",
    "plt.hist(price_return, bins = 100, density = True, alpha = 0.5, label = 'Histogram (Data)', cumulative = True) # Plotting the cdf of the data.\n",
    "for h in H:\n",
    "    kde = F_Kernel_Estimator_Vec(price_return, h, x_values)\n",
    "    plt.plot(x_values, kde, label = f'KDE with h = {h}')\n",
    "    \n",
    "plt.title('Kernel Density Estimation with Logistic Kernel')\n",
    "plt.xlabel('Price Returns')\n",
    "plt.ylabel('cumulative distribution function')\n",
    "plt.xlim(-0.08, 0)\n",
    "plt.ylim(0, 0.2)\n",
    "plt.legend()\n",
    "plt.grid()\n",
    "plt.show()"
   ]
  },
  {
   "cell_type": "markdown",
   "metadata": {},
   "source": [
    "Les deux parametres sont plutot correct, cependant en risk, il vaut mieux le surestimer. therefore we choose $$ h = 0.005 $$"
   ]
  },
  {
   "cell_type": "markdown",
   "metadata": {},
   "source": [
    "Then, we proceed with the computation of the VaR based on the estimation we just did. To do so, we will simply go through the values we computed and stop whenever we hit the threshold."
   ]
  },
  {
   "cell_type": "code",
   "execution_count": 21,
   "metadata": {},
   "outputs": [],
   "source": [
    "h=0.005\n",
    "def Compute_VaR(price_return, alpha, h, grid_size = 500):\n",
    "    x_values = np.linspace(price_return.min(), price_return.max(), grid_size)\n",
    "    for x in x_values:\n",
    "        if F_Kernel_Estimator(price_return, h, x) >= 1 - alpha:\n",
    "            return x\n",
    "    return None  # Return None if no value is found (edge case)"
   ]
  },
  {
   "cell_type": "markdown",
   "metadata": {},
   "source": [
    "Example if $\\alpha$ = 95%"
   ]
  },
  {
   "cell_type": "code",
   "execution_count": 22,
   "metadata": {},
   "outputs": [
    {
     "data": {
      "text/plain": [
       "-0.040190534624647445"
      ]
     },
     "execution_count": 22,
     "metadata": {},
     "output_type": "execute_result"
    }
   ],
   "source": [
    "Compute_VaR(np.array(price_return), 0.95, h)"
   ]
  },
  {
   "cell_type": "markdown",
   "metadata": {},
   "source": [
    "Conclusion the VaR at $95\\%$ of the Natixis stock is a negative return of $4 \\%$."
   ]
  },
  {
   "cell_type": "markdown",
   "metadata": {},
   "source": [
    "### Question A (Ex2, part of Q1 and of Q2 of TD1) "
   ]
  },
  {
   "cell_type": "markdown",
   "metadata": {},
   "source": [
    "#### A.b)"
   ]
  },
  {
   "cell_type": "markdown",
   "metadata": {},
   "source": [
    "So we need to check that 95% of the returns, at least, are above $-4\\%$ on a different time period."
   ]
  },
  {
   "cell_type": "code",
   "execution_count": 23,
   "metadata": {},
   "outputs": [
    {
     "data": {
      "text/html": [
       "<div>\n",
       "<style scoped>\n",
       "    .dataframe tbody tr th:only-of-type {\n",
       "        vertical-align: middle;\n",
       "    }\n",
       "\n",
       "    .dataframe tbody tr th {\n",
       "        vertical-align: top;\n",
       "    }\n",
       "\n",
       "    .dataframe thead th {\n",
       "        text-align: right;\n",
       "    }\n",
       "</style>\n",
       "<table border=\"1\" class=\"dataframe\">\n",
       "  <thead>\n",
       "    <tr style=\"text-align: right;\">\n",
       "      <th></th>\n",
       "      <th>date</th>\n",
       "      <th>price</th>\n",
       "      <th>price_return</th>\n",
       "    </tr>\n",
       "  </thead>\n",
       "  <tbody>\n",
       "    <tr>\n",
       "      <th>513</th>\n",
       "      <td>2017-01-02</td>\n",
       "      <td>5.400</td>\n",
       "      <td>0.007463</td>\n",
       "    </tr>\n",
       "    <tr>\n",
       "      <th>514</th>\n",
       "      <td>2017-01-03</td>\n",
       "      <td>5.620</td>\n",
       "      <td>0.040741</td>\n",
       "    </tr>\n",
       "    <tr>\n",
       "      <th>515</th>\n",
       "      <td>2017-01-04</td>\n",
       "      <td>5.641</td>\n",
       "      <td>0.003737</td>\n",
       "    </tr>\n",
       "    <tr>\n",
       "      <th>516</th>\n",
       "      <td>2017-01-05</td>\n",
       "      <td>5.595</td>\n",
       "      <td>-0.008155</td>\n",
       "    </tr>\n",
       "    <tr>\n",
       "      <th>517</th>\n",
       "      <td>2017-01-06</td>\n",
       "      <td>5.563</td>\n",
       "      <td>-0.005719</td>\n",
       "    </tr>\n",
       "    <tr>\n",
       "      <th>...</th>\n",
       "      <td>...</td>\n",
       "      <td>...</td>\n",
       "      <td>...</td>\n",
       "    </tr>\n",
       "    <tr>\n",
       "      <th>1018</th>\n",
       "      <td>2018-12-21</td>\n",
       "      <td>4.045</td>\n",
       "      <td>-0.001481</td>\n",
       "    </tr>\n",
       "    <tr>\n",
       "      <th>1019</th>\n",
       "      <td>2018-12-24</td>\n",
       "      <td>4.010</td>\n",
       "      <td>-0.008653</td>\n",
       "    </tr>\n",
       "    <tr>\n",
       "      <th>1020</th>\n",
       "      <td>2018-12-27</td>\n",
       "      <td>3.938</td>\n",
       "      <td>-0.017955</td>\n",
       "    </tr>\n",
       "    <tr>\n",
       "      <th>1021</th>\n",
       "      <td>2018-12-28</td>\n",
       "      <td>4.088</td>\n",
       "      <td>0.038090</td>\n",
       "    </tr>\n",
       "    <tr>\n",
       "      <th>1022</th>\n",
       "      <td>2018-12-31</td>\n",
       "      <td>4.119</td>\n",
       "      <td>0.007583</td>\n",
       "    </tr>\n",
       "  </tbody>\n",
       "</table>\n",
       "<p>510 rows × 3 columns</p>\n",
       "</div>"
      ],
      "text/plain": [
       "           date  price  price_return\n",
       "513  2017-01-02  5.400      0.007463\n",
       "514  2017-01-03  5.620      0.040741\n",
       "515  2017-01-04  5.641      0.003737\n",
       "516  2017-01-05  5.595     -0.008155\n",
       "517  2017-01-06  5.563     -0.005719\n",
       "...         ...    ...           ...\n",
       "1018 2018-12-21  4.045     -0.001481\n",
       "1019 2018-12-24  4.010     -0.008653\n",
       "1020 2018-12-27  3.938     -0.017955\n",
       "1021 2018-12-28  4.088      0.038090\n",
       "1022 2018-12-31  4.119      0.007583\n",
       "\n",
       "[510 rows x 3 columns]"
      ]
     },
     "execution_count": 23,
     "metadata": {},
     "output_type": "execute_result"
    }
   ],
   "source": [
    "data_17_18 = data[data[\"date\"].dt.year > 2016]\n",
    "data_17_18"
   ]
  },
  {
   "cell_type": "code",
   "execution_count": 24,
   "metadata": {},
   "outputs": [],
   "source": [
    "def validation(price_return, alpha):\n",
    "    VaR = Compute_VaR(np.array(price_return), 0.95, h)\n",
    "    Count = 0\n",
    "    for x in price_return:\n",
    "        if x < VaR: # We trust our estimations of the distribution better in the lower tail.\n",
    "            Count += 1\n",
    "    return 1 - Count / len(data) # Proportion of values above the VaR."
   ]
  },
  {
   "cell_type": "code",
   "execution_count": 25,
   "metadata": {},
   "outputs": [
    {
     "data": {
      "text/plain": [
       "0.9824046920821115"
      ]
     },
     "execution_count": 25,
     "metadata": {},
     "output_type": "execute_result"
    }
   ],
   "source": [
    "validation(data_17_18[\"price_return\"], 0.95)"
   ]
  },
  {
   "cell_type": "markdown",
   "metadata": {},
   "source": [
    "Concluion the non-parametric VaR is validated"
   ]
  },
  {
   "cell_type": "markdown",
   "metadata": {},
   "source": [
    "### Question B (Ex2, Q4 of TD2)"
   ]
  },
  {
   "cell_type": "markdown",
   "metadata": {},
   "source": [
    "For this question we want all of the dataset "
   ]
  },
  {
   "cell_type": "code",
   "execution_count": 26,
   "metadata": {},
   "outputs": [
    {
     "data": {
      "text/html": [
       "<div>\n",
       "<style scoped>\n",
       "    .dataframe tbody tr th:only-of-type {\n",
       "        vertical-align: middle;\n",
       "    }\n",
       "\n",
       "    .dataframe tbody tr th {\n",
       "        vertical-align: top;\n",
       "    }\n",
       "\n",
       "    .dataframe thead th {\n",
       "        text-align: right;\n",
       "    }\n",
       "</style>\n",
       "<table border=\"1\" class=\"dataframe\">\n",
       "  <thead>\n",
       "    <tr style=\"text-align: right;\">\n",
       "      <th></th>\n",
       "      <th>date</th>\n",
       "      <th>price</th>\n",
       "      <th>price_return</th>\n",
       "    </tr>\n",
       "  </thead>\n",
       "  <tbody>\n",
       "    <tr>\n",
       "      <th>0</th>\n",
       "      <td>2015-01-02</td>\n",
       "      <td>5.621</td>\n",
       "      <td>NaN</td>\n",
       "    </tr>\n",
       "    <tr>\n",
       "      <th>1</th>\n",
       "      <td>2015-01-05</td>\n",
       "      <td>5.424</td>\n",
       "      <td>-0.035047</td>\n",
       "    </tr>\n",
       "    <tr>\n",
       "      <th>2</th>\n",
       "      <td>2015-01-06</td>\n",
       "      <td>5.329</td>\n",
       "      <td>-0.017515</td>\n",
       "    </tr>\n",
       "    <tr>\n",
       "      <th>3</th>\n",
       "      <td>2015-01-07</td>\n",
       "      <td>5.224</td>\n",
       "      <td>-0.019704</td>\n",
       "    </tr>\n",
       "    <tr>\n",
       "      <th>4</th>\n",
       "      <td>2015-01-08</td>\n",
       "      <td>5.453</td>\n",
       "      <td>0.043836</td>\n",
       "    </tr>\n",
       "    <tr>\n",
       "      <th>...</th>\n",
       "      <td>...</td>\n",
       "      <td>...</td>\n",
       "      <td>...</td>\n",
       "    </tr>\n",
       "    <tr>\n",
       "      <th>1018</th>\n",
       "      <td>2018-12-21</td>\n",
       "      <td>4.045</td>\n",
       "      <td>-0.001481</td>\n",
       "    </tr>\n",
       "    <tr>\n",
       "      <th>1019</th>\n",
       "      <td>2018-12-24</td>\n",
       "      <td>4.010</td>\n",
       "      <td>-0.008653</td>\n",
       "    </tr>\n",
       "    <tr>\n",
       "      <th>1020</th>\n",
       "      <td>2018-12-27</td>\n",
       "      <td>3.938</td>\n",
       "      <td>-0.017955</td>\n",
       "    </tr>\n",
       "    <tr>\n",
       "      <th>1021</th>\n",
       "      <td>2018-12-28</td>\n",
       "      <td>4.088</td>\n",
       "      <td>0.038090</td>\n",
       "    </tr>\n",
       "    <tr>\n",
       "      <th>1022</th>\n",
       "      <td>2018-12-31</td>\n",
       "      <td>4.119</td>\n",
       "      <td>0.007583</td>\n",
       "    </tr>\n",
       "  </tbody>\n",
       "</table>\n",
       "<p>1023 rows × 3 columns</p>\n",
       "</div>"
      ],
      "text/plain": [
       "           date  price  price_return\n",
       "0    2015-01-02  5.621           NaN\n",
       "1    2015-01-05  5.424     -0.035047\n",
       "2    2015-01-06  5.329     -0.017515\n",
       "3    2015-01-07  5.224     -0.019704\n",
       "4    2015-01-08  5.453      0.043836\n",
       "...         ...    ...           ...\n",
       "1018 2018-12-21  4.045     -0.001481\n",
       "1019 2018-12-24  4.010     -0.008653\n",
       "1020 2018-12-27  3.938     -0.017955\n",
       "1021 2018-12-28  4.088      0.038090\n",
       "1022 2018-12-31  4.119      0.007583\n",
       "\n",
       "[1023 rows x 3 columns]"
      ]
     },
     "execution_count": 26,
     "metadata": {},
     "output_type": "execute_result"
    }
   ],
   "source": [
    "data"
   ]
  },
  {
   "cell_type": "markdown",
   "metadata": {},
   "source": [
    "We compute the log returns :"
   ]
  },
  {
   "cell_type": "code",
   "execution_count": 27,
   "metadata": {},
   "outputs": [
    {
     "data": {
      "text/html": [
       "<div>\n",
       "<style scoped>\n",
       "    .dataframe tbody tr th:only-of-type {\n",
       "        vertical-align: middle;\n",
       "    }\n",
       "\n",
       "    .dataframe tbody tr th {\n",
       "        vertical-align: top;\n",
       "    }\n",
       "\n",
       "    .dataframe thead th {\n",
       "        text-align: right;\n",
       "    }\n",
       "</style>\n",
       "<table border=\"1\" class=\"dataframe\">\n",
       "  <thead>\n",
       "    <tr style=\"text-align: right;\">\n",
       "      <th></th>\n",
       "      <th>date</th>\n",
       "      <th>price</th>\n",
       "      <th>price_return</th>\n",
       "      <th>log_returns</th>\n",
       "    </tr>\n",
       "  </thead>\n",
       "  <tbody>\n",
       "    <tr>\n",
       "      <th>0</th>\n",
       "      <td>2015-01-02</td>\n",
       "      <td>5.621</td>\n",
       "      <td>NaN</td>\n",
       "      <td>NaN</td>\n",
       "    </tr>\n",
       "    <tr>\n",
       "      <th>1</th>\n",
       "      <td>2015-01-05</td>\n",
       "      <td>5.424</td>\n",
       "      <td>-0.035047</td>\n",
       "      <td>-0.035676</td>\n",
       "    </tr>\n",
       "    <tr>\n",
       "      <th>2</th>\n",
       "      <td>2015-01-06</td>\n",
       "      <td>5.329</td>\n",
       "      <td>-0.017515</td>\n",
       "      <td>-0.017670</td>\n",
       "    </tr>\n",
       "    <tr>\n",
       "      <th>3</th>\n",
       "      <td>2015-01-07</td>\n",
       "      <td>5.224</td>\n",
       "      <td>-0.019704</td>\n",
       "      <td>-0.019900</td>\n",
       "    </tr>\n",
       "    <tr>\n",
       "      <th>4</th>\n",
       "      <td>2015-01-08</td>\n",
       "      <td>5.453</td>\n",
       "      <td>0.043836</td>\n",
       "      <td>0.042903</td>\n",
       "    </tr>\n",
       "    <tr>\n",
       "      <th>...</th>\n",
       "      <td>...</td>\n",
       "      <td>...</td>\n",
       "      <td>...</td>\n",
       "      <td>...</td>\n",
       "    </tr>\n",
       "    <tr>\n",
       "      <th>1018</th>\n",
       "      <td>2018-12-21</td>\n",
       "      <td>4.045</td>\n",
       "      <td>-0.001481</td>\n",
       "      <td>-0.001482</td>\n",
       "    </tr>\n",
       "    <tr>\n",
       "      <th>1019</th>\n",
       "      <td>2018-12-24</td>\n",
       "      <td>4.010</td>\n",
       "      <td>-0.008653</td>\n",
       "      <td>-0.008690</td>\n",
       "    </tr>\n",
       "    <tr>\n",
       "      <th>1020</th>\n",
       "      <td>2018-12-27</td>\n",
       "      <td>3.938</td>\n",
       "      <td>-0.017955</td>\n",
       "      <td>-0.018118</td>\n",
       "    </tr>\n",
       "    <tr>\n",
       "      <th>1021</th>\n",
       "      <td>2018-12-28</td>\n",
       "      <td>4.088</td>\n",
       "      <td>0.038090</td>\n",
       "      <td>0.037383</td>\n",
       "    </tr>\n",
       "    <tr>\n",
       "      <th>1022</th>\n",
       "      <td>2018-12-31</td>\n",
       "      <td>4.119</td>\n",
       "      <td>0.007583</td>\n",
       "      <td>0.007555</td>\n",
       "    </tr>\n",
       "  </tbody>\n",
       "</table>\n",
       "<p>1023 rows × 4 columns</p>\n",
       "</div>"
      ],
      "text/plain": [
       "           date  price  price_return  log_returns\n",
       "0    2015-01-02  5.621           NaN          NaN\n",
       "1    2015-01-05  5.424     -0.035047    -0.035676\n",
       "2    2015-01-06  5.329     -0.017515    -0.017670\n",
       "3    2015-01-07  5.224     -0.019704    -0.019900\n",
       "4    2015-01-08  5.453      0.043836     0.042903\n",
       "...         ...    ...           ...          ...\n",
       "1018 2018-12-21  4.045     -0.001481    -0.001482\n",
       "1019 2018-12-24  4.010     -0.008653    -0.008690\n",
       "1020 2018-12-27  3.938     -0.017955    -0.018118\n",
       "1021 2018-12-28  4.088      0.038090     0.037383\n",
       "1022 2018-12-31  4.119      0.007583     0.007555\n",
       "\n",
       "[1023 rows x 4 columns]"
      ]
     },
     "execution_count": 27,
     "metadata": {},
     "output_type": "execute_result"
    }
   ],
   "source": [
    "data_Q2 = data.copy()\n",
    "data_Q2['log_returns'] = np.log(data_Q2['price'] / data_Q2['price'].shift(1))\n",
    "data_Q2"
   ]
  },
  {
   "cell_type": "markdown",
   "metadata": {},
   "source": [
    "Exponential weighting,\n",
    "$$\n",
    "w_t = \\lambda^{T - t},\n",
    "$$\n",
    "with $\\lambda \\in (0,1)$ : exponential weighting parameter for the volatility."
   ]
  },
  {
   "cell_type": "markdown",
   "metadata": {},
   "source": [
    "Foe example, we chose :"
   ]
  },
  {
   "cell_type": "code",
   "execution_count": 28,
   "metadata": {},
   "outputs": [],
   "source": [
    "lambda_ = 0.92"
   ]
  },
  {
   "cell_type": "markdown",
   "metadata": {},
   "source": [
    "We apply the weights :"
   ]
  },
  {
   "cell_type": "code",
   "execution_count": 32,
   "metadata": {},
   "outputs": [
    {
     "data": {
      "text/html": [
       "<div>\n",
       "<style scoped>\n",
       "    .dataframe tbody tr th:only-of-type {\n",
       "        vertical-align: middle;\n",
       "    }\n",
       "\n",
       "    .dataframe tbody tr th {\n",
       "        vertical-align: top;\n",
       "    }\n",
       "\n",
       "    .dataframe thead th {\n",
       "        text-align: right;\n",
       "    }\n",
       "</style>\n",
       "<table border=\"1\" class=\"dataframe\">\n",
       "  <thead>\n",
       "    <tr style=\"text-align: right;\">\n",
       "      <th></th>\n",
       "      <th>date</th>\n",
       "      <th>price</th>\n",
       "      <th>price_return</th>\n",
       "      <th>log_returns</th>\n",
       "      <th>Weighted_log_returns</th>\n",
       "    </tr>\n",
       "  </thead>\n",
       "  <tbody>\n",
       "    <tr>\n",
       "      <th>0</th>\n",
       "      <td>2015-01-02</td>\n",
       "      <td>5.621</td>\n",
       "      <td>NaN</td>\n",
       "      <td>NaN</td>\n",
       "      <td>NaN</td>\n",
       "    </tr>\n",
       "    <tr>\n",
       "      <th>1</th>\n",
       "      <td>2015-01-05</td>\n",
       "      <td>5.424</td>\n",
       "      <td>-0.035047</td>\n",
       "      <td>-0.035676</td>\n",
       "      <td>-3.039753e-40</td>\n",
       "    </tr>\n",
       "    <tr>\n",
       "      <th>2</th>\n",
       "      <td>2015-01-06</td>\n",
       "      <td>5.329</td>\n",
       "      <td>-0.017515</td>\n",
       "      <td>-0.017670</td>\n",
       "      <td>-1.636474e-40</td>\n",
       "    </tr>\n",
       "    <tr>\n",
       "      <th>3</th>\n",
       "      <td>2015-01-07</td>\n",
       "      <td>5.224</td>\n",
       "      <td>-0.019704</td>\n",
       "      <td>-0.019900</td>\n",
       "      <td>-2.003290e-40</td>\n",
       "    </tr>\n",
       "    <tr>\n",
       "      <th>4</th>\n",
       "      <td>2015-01-08</td>\n",
       "      <td>5.453</td>\n",
       "      <td>0.043836</td>\n",
       "      <td>0.042903</td>\n",
       "      <td>4.694411e-40</td>\n",
       "    </tr>\n",
       "    <tr>\n",
       "      <th>...</th>\n",
       "      <td>...</td>\n",
       "      <td>...</td>\n",
       "      <td>...</td>\n",
       "      <td>...</td>\n",
       "      <td>...</td>\n",
       "    </tr>\n",
       "    <tr>\n",
       "      <th>1018</th>\n",
       "      <td>2018-12-21</td>\n",
       "      <td>4.045</td>\n",
       "      <td>-0.001481</td>\n",
       "      <td>-0.001482</td>\n",
       "      <td>-8.494780e-05</td>\n",
       "    </tr>\n",
       "    <tr>\n",
       "      <th>1019</th>\n",
       "      <td>2018-12-24</td>\n",
       "      <td>4.010</td>\n",
       "      <td>-0.008653</td>\n",
       "      <td>-0.008690</td>\n",
       "      <td>-5.413632e-04</td>\n",
       "    </tr>\n",
       "    <tr>\n",
       "      <th>1020</th>\n",
       "      <td>2018-12-27</td>\n",
       "      <td>3.938</td>\n",
       "      <td>-0.017955</td>\n",
       "      <td>-0.018118</td>\n",
       "      <td>-1.226824e-03</td>\n",
       "    </tr>\n",
       "    <tr>\n",
       "      <th>1021</th>\n",
       "      <td>2018-12-28</td>\n",
       "      <td>4.088</td>\n",
       "      <td>0.038090</td>\n",
       "      <td>0.037383</td>\n",
       "      <td>2.751379e-03</td>\n",
       "    </tr>\n",
       "    <tr>\n",
       "      <th>1022</th>\n",
       "      <td>2018-12-31</td>\n",
       "      <td>4.119</td>\n",
       "      <td>0.007583</td>\n",
       "      <td>0.007555</td>\n",
       "      <td>6.043650e-04</td>\n",
       "    </tr>\n",
       "  </tbody>\n",
       "</table>\n",
       "<p>1023 rows × 5 columns</p>\n",
       "</div>"
      ],
      "text/plain": [
       "           date  price  price_return  log_returns  Weighted_log_returns\n",
       "0    2015-01-02  5.621           NaN          NaN                   NaN\n",
       "1    2015-01-05  5.424     -0.035047    -0.035676         -3.039753e-40\n",
       "2    2015-01-06  5.329     -0.017515    -0.017670         -1.636474e-40\n",
       "3    2015-01-07  5.224     -0.019704    -0.019900         -2.003290e-40\n",
       "4    2015-01-08  5.453      0.043836     0.042903          4.694411e-40\n",
       "...         ...    ...           ...          ...                   ...\n",
       "1018 2018-12-21  4.045     -0.001481    -0.001482         -8.494780e-05\n",
       "1019 2018-12-24  4.010     -0.008653    -0.008690         -5.413632e-04\n",
       "1020 2018-12-27  3.938     -0.017955    -0.018118         -1.226824e-03\n",
       "1021 2018-12-28  4.088      0.038090     0.037383          2.751379e-03\n",
       "1022 2018-12-31  4.119      0.007583     0.007555          6.043650e-04\n",
       "\n",
       "[1023 rows x 5 columns]"
      ]
     },
     "execution_count": 32,
     "metadata": {},
     "output_type": "execute_result"
    }
   ],
   "source": [
    "weights = np.array([lambda_**i for i in range(len(data_Q2))][::-1]) # Weights for the exponentially weighted moving average, in reverse order\n",
    "\n",
    "data_Q2[\"Weighted_log_returns\"] = data_Q2[\"log_returns\"] * weights / sum(weights)\n",
    "\n",
    "data_Q2"
   ]
  },
  {
   "cell_type": "markdown",
   "metadata": {},
   "source": [
    "Then, the weighted parameters are given by :\n",
    "$$\n",
    "\\hat{\\mu}_w = \\frac{\\sum_{t} w_t \\ln(R_t)}{\\sum_{t} w_t}, \\quad \\hat{\\sigma}_w = \\frac{\\sum_{t} w_t \\left(\\ln(R_t) - \\hat{\\mu}_w \\right)^2}{\\sum_{t} w_t}\n",
    "$$"
   ]
  },
  {
   "cell_type": "code",
   "execution_count": 33,
   "metadata": {},
   "outputs": [
    {
     "name": "stdout",
     "output_type": "stream",
     "text": [
      "mu_w = -0.006236493446561692, sigma_w = 0.0245635361811459\n"
     ]
    }
   ],
   "source": [
    "mu_w = np.sum(weights * data_Q2['log_returns']) / np.sum(weights)\n",
    "sigma_w = np.sqrt(np.sum(weights * (data_Q2['log_returns'] - mu_w)**2) / np.sum(weights))\n",
    "print(f\"mu_w = {mu_w}, sigma_w = {sigma_w}\")"
   ]
  },
  {
   "cell_type": "markdown",
   "metadata": {},
   "source": [
    "Let $S_0$ be the price at the last date of 2018, the price at the next time is $S_1$ and is given by :\n",
    "$$\n",
    "S_1 = S_0 \\exp\\left(\\hat{\\sigma}_w B_1 + \\hat{\\mu}_w - \\frac12 \\hat{\\sigma}_w\\right), \\quad B_1 \\sim \\mathcal{N}(0, 1).\n",
    "$$\n"
   ]
  },
  {
   "cell_type": "markdown",
   "metadata": {},
   "source": [
    "We proceed with the simulation :\n",
    "We take the number of the simulation N \n",
    "with $S_0$ the price at the last date of 2018"
   ]
  },
  {
   "cell_type": "code",
   "execution_count": 34,
   "metadata": {},
   "outputs": [],
   "source": [
    "N = 1000 \n",
    "S_0 = data_Q2['price'].iloc[-1] \n",
    "B_1 = np.random.normal(0, 1, N)  # N standard normal samples\n",
    "\n",
    "# prices simulation\n",
    "simulated_prices = S_0 * np.exp(sigma_w * B_1 + mu_w - 0.5 * sigma_w**2)"
   ]
  },
  {
   "cell_type": "markdown",
   "metadata": {},
   "source": [
    "The price of a European Call Option is given, according to the Black-Scholes- Merton formula, by :\n",
    "$$\n",
    "C = S_t \\times \\Phi(d_1) - K e^{-r T} \\times \\Phi(d_2),\n",
    "$$\n",
    "where:\n",
    "- $K$ : Strike price.\n",
    "- $r = 0$ : Risk-free rate.\n",
    "- $T = 1/252$ : Time to maturity (1 day).\n",
    "- $\\Phi(d)$ : Cumulative normal distribution function.\n",
    "- $d_1 = \\frac{\\ln(S_t / K) + \\left(r + \\frac{\\sigma^2}{2}\\right)T}{\\sigma \\sqrt{T}}$, $d_2 = d_1 - \\sigma \\sqrt{T}$.\n"
   ]
  },
  {
   "cell_type": "code",
   "execution_count": 35,
   "metadata": {},
   "outputs": [],
   "source": [
    "from scipy.stats import norm\n",
    "\n",
    "T = 1/252\n",
    "r = 0\n",
    "K = S_0\n",
    "def black_scholes_call(S, K, T, r, sigma):\n",
    "    d1 = (np.log(S / K) + (r + 0.5 * sigma**2) * T) / (sigma * np.sqrt(T))\n",
    "    d2 = d1 - sigma * np.sqrt(T)\n",
    "    return S * norm.cdf(d1) - K * np.exp(-r * T) * norm.cdf(d2)"
   ]
  },
  {
   "cell_type": "code",
   "execution_count": 36,
   "metadata": {},
   "outputs": [
    {
     "data": {
      "text/plain": [
       "array([2.64105056e-039, 2.77668137e-010, 1.18120074e-001, 5.70100146e-002,\n",
       "       1.28765940e-002, 1.55390519e-005, 2.72212018e-001, 0.00000000e+000,\n",
       "       2.11489898e-016, 1.39590685e-173, 1.21537477e-062, 2.85818695e-011,\n",
       "       1.72645843e-006, 5.92672390e-064, 1.43133453e-001, 2.76981969e-239,\n",
       "       1.16318411e-002, 0.00000000e+000, 1.97411273e-010, 6.99083744e-002,\n",
       "       6.75185871e-244, 8.05674040e-002, 2.79628479e-002, 2.04409728e-007,\n",
       "       4.78619760e-044, 2.38913078e-002, 1.71553834e-029, 9.64477260e-181,\n",
       "       1.96065954e-001, 3.12360312e-002, 3.22508695e-009, 1.34568352e-160,\n",
       "       3.04353286e-001, 1.19782522e-154, 1.69085344e-001, 1.42691316e-002,\n",
       "       0.00000000e+000, 1.41988363e-003, 4.87330206e-002, 6.09771317e-002,\n",
       "       5.02356682e-002, 3.38012245e-070, 6.10103742e-002, 1.48906282e-030,\n",
       "       2.99624442e-019, 3.40006645e-002, 3.59956440e-141, 3.11127330e-046,\n",
       "       8.23001957e-006, 8.56697068e-235, 8.84007518e-002, 1.26195410e-001,\n",
       "       4.67344061e-002, 2.92109210e-002, 2.26421024e-045, 3.27190759e-095,\n",
       "       2.41768777e-001, 5.47353928e-072, 2.19691224e-003, 9.90597484e-064,\n",
       "       1.84159003e-003, 1.09524530e-001, 2.05953392e-002, 9.47345481e-047,\n",
       "       0.00000000e+000, 6.38620295e-092, 1.79550967e-001, 6.07485800e-104,\n",
       "       1.93123565e-002, 8.87950326e-002, 6.96389745e-002, 1.79974821e-003,\n",
       "       2.50582913e-051, 8.13710175e-002, 5.23633536e-113, 8.94081742e-010,\n",
       "       1.38366202e-085, 9.49278972e-004, 2.16611749e-170, 0.00000000e+000,\n",
       "       5.08498931e-221, 3.84227522e-010, 2.75630630e-019, 4.55960021e-034,\n",
       "       2.19267696e-004, 4.65156548e-218, 4.99345932e-007, 0.00000000e+000,\n",
       "       1.95736808e-021, 2.17206358e-002, 0.00000000e+000, 2.66528258e-066,\n",
       "       1.24045064e-001, 1.04692649e-023, 6.34511743e-021, 1.44507671e-001,\n",
       "       5.37597106e-002, 1.78944641e-001, 1.72094445e-002, 5.95076726e-030,\n",
       "       8.52707696e-052, 1.16235980e-039, 5.62929416e-016, 1.83267685e-026,\n",
       "       6.88538732e-003, 4.95442365e-002, 8.68849225e-002, 9.63726273e-024,\n",
       "       3.03376653e-002, 1.38335876e-076, 2.09563154e-001, 5.01116769e-027,\n",
       "       1.04338310e-073, 2.46000643e-140, 2.01008104e-004, 2.53007557e-010,\n",
       "       1.38786024e-002, 1.63224882e-030, 4.03355340e-300, 2.87618147e-002,\n",
       "       1.16562972e-014, 9.50313254e-057, 7.94802366e-002, 2.51537964e-010,\n",
       "       3.95494748e-153, 1.17232050e-063, 1.93799826e-002, 4.00587406e-009,\n",
       "       4.61750385e-041, 2.34800003e-002, 8.62138375e-002, 2.40453878e-247,\n",
       "       2.82047393e-002, 1.46592396e-020, 4.26792489e-003, 3.49736886e-023,\n",
       "       5.40729035e-051, 3.13504367e-072, 1.88048225e-215, 1.68535974e-002,\n",
       "       9.68402692e-314, 1.75866930e-001, 1.16135204e-068, 4.16875460e-160,\n",
       "       5.20802332e-129, 4.89339973e-004, 2.07744690e-009, 1.47855815e-001,\n",
       "       9.81116927e-005, 8.42056765e-007, 1.24503280e-001, 1.04847469e-085,\n",
       "       9.24465632e-002, 4.39576880e-002, 1.28958776e-085, 1.23090574e-001,\n",
       "       2.74527920e-031, 9.28579489e-002, 1.61511168e-002, 1.28879836e-083,\n",
       "       1.25098298e-001, 7.56678977e-035, 4.33181884e-064, 9.75561081e-002,\n",
       "       2.84569728e-114, 8.38442125e-006, 5.53853437e-002, 5.39121747e-002,\n",
       "       3.99169220e-003, 2.30820965e-002, 1.73264079e-002, 1.16026391e-001,\n",
       "       1.64501991e-006, 2.99909571e-057, 1.27010339e-011, 2.92547043e-002,\n",
       "       1.42185929e-001, 1.47186134e-103, 9.26268387e-041, 4.53991787e-002,\n",
       "       1.62657066e-073, 7.72956316e-003, 8.38971758e-146, 1.76301149e-002,\n",
       "       1.00464654e-001, 3.01500044e-002, 5.22354393e-190, 9.15985675e-002,\n",
       "       8.58732362e-003, 1.37677137e-002, 6.35468509e-017, 2.21922984e-042,\n",
       "       6.94865065e-002, 4.72982477e-002, 3.32532732e-010, 1.23412879e-035,\n",
       "       1.20953250e-030, 1.67516932e-025, 5.32301030e-104, 1.87001499e-018,\n",
       "       4.59418102e-149, 2.71429264e-002, 1.85166533e-094, 1.21495827e-001,\n",
       "       7.68108529e-007, 1.16361072e-001, 1.03404699e-048, 5.85568762e-054,\n",
       "       4.46208219e-299, 7.16564827e-028, 4.71963270e-003, 1.15500786e-150,\n",
       "       1.22375627e-249, 1.12883457e-001, 2.05373731e-007, 2.58937005e-009,\n",
       "       6.02028520e-140, 9.50997406e-002, 6.41591539e-002, 7.75846467e-003,\n",
       "       6.53761012e-019, 3.26940611e-102, 1.58836340e-002, 2.45855837e-002,\n",
       "       1.09684089e-001, 1.28351382e-001, 1.63610719e-090, 2.73228779e-002,\n",
       "       6.65100293e-030, 1.13672458e-001, 1.26436254e-055, 1.62520061e-001,\n",
       "       5.12630173e-003, 9.39971649e-110, 3.37213760e-027, 1.96326778e-001,\n",
       "       1.10658284e-123, 3.71556111e-210, 8.16229449e-011, 2.72986352e-002,\n",
       "       1.37840565e-017, 4.58861673e-002, 1.07735886e-001, 6.77162652e-002,\n",
       "       1.70893678e-024, 2.22014592e-009, 1.05271253e-022, 8.95203814e-002,\n",
       "       1.37881806e-001, 1.18691009e-009, 3.48871630e-002, 8.52257651e-003,\n",
       "       3.57544786e-002, 1.09032782e-001, 2.02591463e-040, 3.14347239e-043,\n",
       "       2.36223945e-003, 3.93719525e-218, 5.26722554e-002, 7.69166867e-010,\n",
       "       1.23425572e-045, 1.53831499e-019, 5.60097895e-003, 1.50028773e-001,\n",
       "       9.85402306e-054, 6.18000963e-065, 1.00697709e-011, 5.73707711e-002,\n",
       "       9.36105865e-063, 3.34832821e-308, 3.35422861e-119, 5.98325986e-002,\n",
       "       1.09663003e-002, 1.16437803e-006, 1.02173835e-122, 7.29953218e-102,\n",
       "       3.29324738e-042, 4.29544923e-015, 2.44331425e-002, 1.75568430e-015,\n",
       "       1.53987041e-001, 4.49426227e-094, 1.21064665e-096, 6.68085620e-002,\n",
       "       1.92702416e-008, 2.79243777e-002, 4.67890441e-020, 1.21121047e-120,\n",
       "       9.87372689e-037, 1.54259739e-001, 1.04210695e-098, 5.29483716e-002,\n",
       "       1.76220816e-014, 3.62646463e-056, 3.50167700e-002, 4.08856707e-022,\n",
       "       3.44919465e-050, 6.40738704e-004, 1.49423024e-004, 5.22885232e-002,\n",
       "       5.39990710e-002, 8.04238657e-002, 1.79766427e-001, 2.60110873e-057,\n",
       "       1.44011069e-117, 1.90635585e-197, 2.38733775e-014, 1.77573361e-002,\n",
       "       1.30443980e-001, 1.41613442e-050, 7.74548567e-093, 1.89925530e-001,\n",
       "       2.71630649e-002, 5.22495926e-039, 1.63119547e-016, 7.64080640e-003,\n",
       "       1.97991048e-002, 0.00000000e+000, 2.79161294e-002, 4.67615901e-002,\n",
       "       3.75457229e-004, 5.33970214e-006, 1.54569268e-002, 1.32690232e-001,\n",
       "       7.02761584e-002, 5.74637250e-048, 1.08234080e-002, 4.13467723e-030,\n",
       "       6.26265633e-004, 2.42745137e-014, 1.25345898e-001, 1.85700885e-012,\n",
       "       0.00000000e+000, 9.93448979e-164, 4.81702822e-002, 1.35405743e-048,\n",
       "       4.05278663e-274, 1.47633227e-057, 1.34715033e-001, 1.41809215e-010,\n",
       "       5.09215643e-128, 1.28605729e-002, 5.63466466e-018, 5.21260182e-002,\n",
       "       4.02264789e-004, 2.61162571e-302, 2.04796913e-002, 4.92482812e-002,\n",
       "       4.09747841e-025, 1.27713978e-030, 1.57066461e-108, 1.62043064e-030,\n",
       "       3.81054914e-009, 5.74821142e-003, 7.57248318e-002, 9.02571455e-002,\n",
       "       6.15442347e-232, 2.15822119e-023, 1.44235838e-001, 5.40764532e-002,\n",
       "       5.64858696e-031, 9.18533056e-006, 9.08888560e-010, 4.64901924e-144,\n",
       "       1.48193845e-036, 1.65930209e-014, 1.41386798e-064, 1.01590241e-026,\n",
       "       6.64341839e-006, 1.53943469e-096, 9.46878933e-002, 5.53515435e-029,\n",
       "       1.35096096e-001, 5.48298723e-019, 1.43603453e-010, 1.05458174e-021,\n",
       "       2.65199476e-011, 2.63119129e-034, 1.51029904e-130, 1.06396071e-043,\n",
       "       8.96027029e-126, 8.04879893e-067, 4.95184611e-078, 7.87391447e-189,\n",
       "       8.76284455e-009, 1.05227672e-012, 1.47336581e-063, 1.50080668e-077,\n",
       "       3.38577186e-043, 9.81300144e-078, 1.80976903e-001, 2.04588196e-002,\n",
       "       6.62800826e-280, 1.87374265e-012, 1.39397185e-002, 1.68024450e-001,\n",
       "       0.00000000e+000, 8.37478298e-015, 8.03981344e-058, 2.02902135e-002,\n",
       "       2.42404179e-012, 6.20878189e-081, 1.78169259e-006, 1.78020807e-044,\n",
       "       5.00630468e-002, 9.69188263e-002, 4.53279989e-002, 1.46069502e-257,\n",
       "       3.52611263e-002, 5.74506435e-004, 2.20355669e-091, 2.71188061e-001,\n",
       "       5.61290131e-230, 5.49535468e-011, 6.01198761e-102, 3.75278785e-077,\n",
       "       8.11125681e-002, 0.00000000e+000, 1.75989499e-003, 4.23808208e-003,\n",
       "       1.70437541e-131, 4.20605951e-055, 1.83950635e-001, 2.04158502e-002,\n",
       "       1.83580238e-025, 6.42929626e-013, 3.12901847e-067, 4.05189508e-084,\n",
       "       3.37375825e-003, 1.05574578e-150, 1.19032128e-194, 1.06944817e-222,\n",
       "       2.86140590e-163, 9.46591902e-003, 2.34838689e-017, 1.63413821e-010,\n",
       "       5.78435273e-060, 7.22779265e-002, 5.30469163e-005, 8.10058736e-026,\n",
       "       3.03948768e-207, 1.17748860e-018, 2.20602904e-195, 9.56558562e-002,\n",
       "       2.27410404e-037, 7.71066157e-029, 5.56353249e-002, 7.29189723e-011,\n",
       "       8.47107379e-302, 8.39693456e-036, 2.10089936e-001, 2.49270405e-156,\n",
       "       4.58330116e-007, 2.31652614e-003, 4.77960504e-003, 8.01363016e-112,\n",
       "       7.15722297e-115, 6.66588400e-031, 7.69463392e-002, 5.90413288e-132,\n",
       "       3.11708849e-084, 2.56204452e-002, 1.41112392e-073, 6.45963985e-008,\n",
       "       1.78159892e-001, 7.54630069e-002, 9.13036588e-003, 1.18300564e-128,\n",
       "       1.39618648e-080, 1.37834314e-002, 2.11685446e-034, 1.85426440e-026,\n",
       "       5.68538360e-102, 2.53034670e-002, 5.28297388e-003, 1.65685578e-155,\n",
       "       1.38194025e-027, 3.16069319e-111, 3.08377168e-002, 3.21660031e-002,\n",
       "       1.06434089e-001, 3.75952861e-002, 2.25558121e-002, 1.47180984e-051,\n",
       "       4.63125157e-029, 5.47685963e-002, 3.96144202e-091, 8.74107351e-016,\n",
       "       6.76122856e-124, 7.78679149e-002, 7.97529248e-056, 1.65453094e-001,\n",
       "       8.58936555e-002, 2.86180905e-007, 4.77673894e-010, 6.96916759e-213,\n",
       "       7.60816812e-016, 5.19302710e-009, 2.98563998e-137, 3.39897123e-042,\n",
       "       1.18546866e-027, 3.63307317e-002, 2.75559899e-025, 2.58391333e-002,\n",
       "       4.82576904e-034, 1.66817652e-001, 2.50868835e-106, 4.98024274e-002,\n",
       "       3.58502785e-061, 2.35839195e-004, 6.80393121e-046, 9.25306688e-002,\n",
       "       2.80889666e-045, 4.17954754e-027, 5.07863394e-002, 2.20795577e-002,\n",
       "       5.11969717e-002, 3.26833387e-002, 5.43367066e-002, 1.58054938e-023,\n",
       "       2.62104220e-090, 3.36608897e-002, 1.40492573e-027, 2.57461532e-017,\n",
       "       5.80591976e-003, 8.17698497e-035, 6.09591924e-002, 1.39658459e-082,\n",
       "       3.28652494e-012, 3.37207375e-002, 1.59009420e-006, 1.11651876e-004,\n",
       "       6.10400229e-002, 1.35837243e-001, 1.20153966e-001, 1.33024013e-046,\n",
       "       2.61920843e-008, 1.17422647e-001, 5.72876523e-006, 4.58937637e-079,\n",
       "       3.72158665e-002, 9.59558177e-002, 2.72385393e-002, 7.14701658e-025,\n",
       "       5.98854546e-124, 3.16638350e-106, 2.13539979e-071, 2.52763482e-002,\n",
       "       1.97126413e-002, 7.94998150e-002, 1.09577645e-007, 2.01908977e-191,\n",
       "       1.05829329e-028, 2.77919816e-002, 8.89715222e-002, 1.23991217e-001,\n",
       "       4.13605411e-003, 7.97401626e-043, 3.37488891e-006, 5.46808298e-002,\n",
       "       2.67211040e-002, 4.80699929e-012, 1.81522978e-001, 1.29288736e-001,\n",
       "       1.65248857e-079, 7.73593636e-079, 1.09519901e-045, 3.46972952e-021,\n",
       "       3.96061268e-002, 1.55470944e-023, 1.71831548e-001, 8.87410130e-003,\n",
       "       5.93468249e-012, 1.05045580e-001, 2.86046334e-015, 1.99544805e-034,\n",
       "       1.60843907e-040, 1.13254463e-004, 3.09584209e-007, 4.74459962e-002,\n",
       "       3.10595355e-005, 2.65692910e-041, 6.08212975e-022, 1.93016438e-047,\n",
       "       1.87830515e-002, 8.51577339e-022, 2.01482308e-002, 5.18628652e-023,\n",
       "       6.36130105e-082, 2.46083818e-079, 2.25293716e-004, 2.99208191e-192,\n",
       "       4.02033784e-002, 2.37037968e-034, 1.75848653e-021, 1.23169743e-003,\n",
       "       1.04978926e-008, 6.03962240e-003, 9.65527963e-067, 6.19173325e-211,\n",
       "       1.11104860e-005, 1.02277485e-001, 4.28404136e-002, 1.14981865e-127,\n",
       "       1.45039962e-001, 1.30522622e-002, 4.35037469e-002, 6.08652162e-044,\n",
       "       7.31231734e-002, 8.08279735e-056, 3.00688061e-003, 4.66901688e-072,\n",
       "       4.13494262e-117, 8.78540219e-005, 0.00000000e+000, 1.49332694e-030,\n",
       "       9.90727377e-003, 1.73345087e-002, 6.55505607e-037, 3.99466407e-060,\n",
       "       1.40800821e-001, 3.12042235e-006, 1.84634225e-002, 1.20950654e-001,\n",
       "       0.00000000e+000, 2.73811855e-003, 4.53147142e-002, 1.58741001e-035,\n",
       "       9.74939553e-003, 2.17827942e-045, 4.14431199e-065, 2.12654076e-001,\n",
       "       1.69434600e-002, 1.22527650e-001, 3.84120291e-011, 1.12783080e-003,\n",
       "       5.13394596e-249, 4.65904604e-165, 3.19449134e-002, 8.63052804e-013,\n",
       "       7.03856262e-006, 5.05461649e-002, 2.45509768e-190, 7.71532606e-130,\n",
       "       1.14441390e-002, 2.88705998e-002, 3.80725370e-173, 7.77367065e-002,\n",
       "       1.14933530e-005, 4.51470239e-167, 2.09563025e-059, 6.91771649e-004,\n",
       "       3.74906564e-115, 1.43105580e-001, 3.86870696e-057, 6.48108221e-002,\n",
       "       1.46334592e-007, 1.69542967e-008, 2.09421868e-001, 8.54458717e-002,\n",
       "       2.61529697e-002, 2.34500716e-006, 8.35922971e-052, 1.51026381e-002,\n",
       "       2.09737108e-002, 4.65450435e-032, 1.53870963e-002, 6.25190202e-176,\n",
       "       1.10620627e-103, 5.14516667e-009, 1.45286820e-010, 6.47432561e-076,\n",
       "       2.95592102e-010, 5.82598170e-294, 1.16757677e-033, 2.23623328e-195,\n",
       "       1.63562997e-015, 1.92522730e-001, 2.85434544e-066, 1.34014989e-026,\n",
       "       3.99325895e-175, 9.12462701e-002, 1.17738301e-054, 1.12628349e-001,\n",
       "       8.83184667e-003, 1.43526542e-001, 7.99176589e-026, 2.70759671e-003,\n",
       "       4.43672614e-016, 4.52932657e-037, 1.13171466e-005, 2.47810712e-041,\n",
       "       1.90950045e-143, 8.13175881e-021, 3.58966059e-087, 5.91027906e-004,\n",
       "       6.81309215e-155, 1.98940233e-002, 2.69648928e-002, 1.48477241e-048,\n",
       "       4.05875544e-004, 4.64357940e-052, 1.86567783e-023, 2.94391084e-004,\n",
       "       3.42617335e-036, 3.05131627e-250, 3.79139912e-018, 2.20843798e-021,\n",
       "       5.81798942e-002, 1.43585504e-001, 1.26149356e-119, 9.10810565e-002,\n",
       "       5.72916475e-012, 3.16506651e-001, 3.03743353e-092, 8.17882903e-006,\n",
       "       1.12658572e-037, 6.38302725e-010, 1.03718047e-089, 4.25336885e-008,\n",
       "       6.46546325e-002, 4.36373210e-153, 1.78890020e-001, 6.43122193e-002,\n",
       "       9.73697195e-002, 3.51179991e-002, 9.72739274e-184, 2.20804936e-074,\n",
       "       3.56308384e-002, 6.17189997e-031, 1.50545382e-003, 1.87202950e-001,\n",
       "       8.40185658e-002, 1.45490718e-001, 4.97110433e-002, 1.60402576e-016,\n",
       "       1.53113503e-111, 2.16214336e-001, 7.07129443e-003, 4.90311078e-005,\n",
       "       9.65313965e-002, 4.63153859e-003, 3.54230160e-058, 1.00928226e-001,\n",
       "       7.46123942e-002, 2.42100697e-011, 2.03465200e-002, 4.70348779e-202,\n",
       "       1.52116646e-001, 1.91839632e-002, 1.95997868e-108, 1.95261311e-012,\n",
       "       6.46950974e-002, 2.64528266e-002, 2.00258043e-001, 9.76986162e-002,\n",
       "       2.47629682e-125, 2.48602134e-025, 5.30658527e-264, 4.63164720e-002,\n",
       "       3.52100381e-016, 7.65320371e-066, 2.60602521e-002, 2.95454758e-063,\n",
       "       1.05505012e-001, 1.05865814e-095, 9.43036864e-003, 4.21512019e-003,\n",
       "       7.31094679e-136, 2.27143407e-001, 7.54985496e-002, 0.00000000e+000,\n",
       "       9.89526104e-037, 1.25670874e-002, 6.40829153e-006, 3.07520074e-012,\n",
       "       4.50010125e-048, 0.00000000e+000, 2.46870838e-012, 2.97674415e-049,\n",
       "       5.54063547e-002, 4.20041062e-016, 8.69999641e-003, 5.14188076e-288,\n",
       "       9.08031280e-003, 9.99029991e-002, 7.92462816e-002, 4.20047550e-015,\n",
       "       6.11084139e-002, 2.04872821e-001, 8.70045802e-027, 8.38826498e-002,\n",
       "       5.88543079e-003, 1.14884183e-040, 2.99501584e-003, 5.93855972e-126,\n",
       "       4.52240808e-030, 4.41628465e-002, 2.42088802e-002, 4.90564781e-002,\n",
       "       3.85037367e-003, 1.40566371e-001, 2.21986007e-009, 2.95717363e-002,\n",
       "       2.35322027e-002, 1.11069878e-059, 1.22148187e-003, 5.99445144e-030,\n",
       "       2.02831608e-002, 2.84025463e-026, 7.45577983e-002, 1.06846137e-212,\n",
       "       1.49085552e-063, 1.86111268e-002, 1.40460320e-271, 1.21532971e-004,\n",
       "       3.84360926e-125, 3.99020508e-100, 4.76364174e-003, 3.94650140e-170,\n",
       "       6.68418235e-002, 1.23536723e-003, 9.65968147e-003, 3.59988270e-010,\n",
       "       1.89505305e-103, 4.39607323e-056, 9.30104378e-044, 1.30336870e-077,\n",
       "       1.25001659e-068, 1.30902915e-306, 1.87108497e-002, 1.02922162e-236,\n",
       "       2.81104649e-004, 3.38602549e-002, 1.37485313e-017, 6.65757023e-044,\n",
       "       7.54423133e-004, 2.71269724e-002, 1.12398521e-001, 7.02805985e-002,\n",
       "       5.63347584e-231, 4.60215385e-042, 1.01761220e-118, 1.91906207e-022,\n",
       "       1.86845182e-002, 8.56099513e-147, 2.01142136e-002, 1.49652585e-001,\n",
       "       1.23673602e-001, 4.16321655e-002, 1.60077804e-272, 1.83163882e-066,\n",
       "       7.30096339e-072, 1.86014275e-237, 1.16897738e-002, 3.74468179e-004,\n",
       "       1.16767357e-001, 5.14979213e-015, 3.40714664e-021, 9.37446598e-002,\n",
       "       1.74833329e-014, 8.61273386e-004, 1.38996741e-162, 1.22433011e-001,\n",
       "       2.02066203e-009, 3.51149414e-002, 4.60340832e-254, 1.08967593e-037,\n",
       "       1.06327172e-001, 2.47359011e-182, 5.10233830e-004, 2.52984844e-026,\n",
       "       1.49297967e-022, 1.91929329e-022, 5.20650717e-003, 4.15823679e-002,\n",
       "       7.43492376e-003, 9.29661999e-002, 4.55811759e-002, 1.39567399e-013,\n",
       "       3.36272703e-088, 3.11766634e-015, 1.95038567e-028, 7.24523116e-064,\n",
       "       4.09745815e-003, 3.32373087e-136, 5.89599087e-002, 1.20754884e-269,\n",
       "       1.62229695e-091, 1.11469157e-001, 1.09082587e-003, 1.89046815e-002,\n",
       "       2.48212626e-062, 1.24911913e-046, 1.90068301e-002, 5.94473356e-031,\n",
       "       8.20931735e-002, 2.67611663e-057, 4.89341352e-178, 7.19491660e-002,\n",
       "       8.05192605e-053, 4.77399478e-015, 9.67280669e-002, 5.00121393e-007,\n",
       "       2.17171967e-028, 7.81294776e-002, 1.01004691e-001, 3.33516434e-047,\n",
       "       1.55928374e-020, 7.12160883e-023, 3.23181173e-061, 4.02007750e-099,\n",
       "       4.09587020e-002, 2.67730492e-002, 8.28738722e-002, 6.79311900e-087,\n",
       "       1.02229003e-046, 8.50081566e-204, 0.00000000e+000, 1.14611204e-029,\n",
       "       1.14044047e-020, 1.76791779e-002, 1.54636612e-018, 9.42005104e-098,\n",
       "       2.26389836e-018, 9.91011175e-002, 6.82077047e-002, 2.99835999e-141,\n",
       "       1.05534790e-173, 3.58687581e-002, 2.89665610e-156, 2.80489075e-002,\n",
       "       6.41687889e-002, 7.79029783e-014, 5.04675618e-002, 2.75018825e-002,\n",
       "       2.72557385e-287, 3.97205995e-006, 4.62167097e-002, 1.25544008e-037,\n",
       "       1.41526343e-129, 4.42213848e-004, 1.61664491e-002, 3.79000376e-005,\n",
       "       9.94106665e-002, 3.13529302e-045, 9.74482523e-002, 6.75905052e-002,\n",
       "       1.75972848e-005, 2.04610717e-006, 1.16494392e-001, 1.33020944e-002,\n",
       "       6.74777277e-299, 1.40226317e-003, 1.10014006e-011, 9.22019334e-086,\n",
       "       1.10274434e-003, 5.98137435e-002, 5.69966085e-002, 7.56617107e-002,\n",
       "       1.78920994e-002, 8.67625182e-235, 1.11177099e-011, 4.74726327e-002,\n",
       "       8.82903388e-002, 7.99420384e-010, 6.47261692e-008, 1.01924418e-045,\n",
       "       1.03044662e-007, 1.28151663e-109, 4.96117106e-081, 6.76352839e-057,\n",
       "       1.00801700e-002, 1.15441318e-062, 2.45488973e-037, 1.63080984e-079,\n",
       "       5.10874022e-002, 1.55052625e-001, 4.04319589e-006, 2.15803153e-002,\n",
       "       5.45119164e-012, 8.88990816e-150, 1.26201822e-001, 1.13906873e-022,\n",
       "       5.41413761e-002, 3.94441024e-075, 2.76261804e-091, 6.73414810e-002,\n",
       "       8.18847328e-002, 6.26887485e-008, 2.47762015e-012, 2.86580436e-244,\n",
       "       3.28624602e-005, 8.38784569e-004, 2.81251046e-009, 4.74642908e-037,\n",
       "       3.81458982e-002, 1.32583995e-021, 4.96826402e-065, 2.57235137e-003])"
      ]
     },
     "execution_count": 36,
     "metadata": {},
     "output_type": "execute_result"
    }
   ],
   "source": [
    "simulated_call_prices = black_scholes_call(simulated_prices, K, T, r, sigma_w)\n",
    "simulated_call_prices"
   ]
  },
  {
   "cell_type": "markdown",
   "metadata": {},
   "source": [
    "Now we calculate the 95% quantile of the distribution of simulated call option prices to account for 95% of the risk"
   ]
  },
  {
   "cell_type": "code",
   "execution_count": 37,
   "metadata": {},
   "outputs": [
    {
     "data": {
      "text/plain": [
       "0.14057809326000206"
      ]
     },
     "execution_count": 37,
     "metadata": {},
     "output_type": "execute_result"
    }
   ],
   "source": [
    "VaR_Call = np.quantile(simulated_call_prices, 0.95)\n",
    "VaR_Call"
   ]
  },
  {
   "cell_type": "markdown",
   "metadata": {},
   "source": [
    " Conclusion, the price of the call should be less or equal to the result above (according our simulation)"
   ]
  },
  {
   "cell_type": "markdown",
   "metadata": {},
   "source": [
    "### Question C (Ex2, Q1 and Q3 of TD3) "
   ]
  },
  {
   "cell_type": "markdown",
   "metadata": {},
   "source": [
    "#### C.a)"
   ]
  },
  {
   "cell_type": "markdown",
   "metadata": {},
   "source": [
    "We use the same dataset "
   ]
  },
  {
   "cell_type": "code",
   "execution_count": 38,
   "metadata": {},
   "outputs": [
    {
     "data": {
      "text/html": [
       "<div>\n",
       "<style scoped>\n",
       "    .dataframe tbody tr th:only-of-type {\n",
       "        vertical-align: middle;\n",
       "    }\n",
       "\n",
       "    .dataframe tbody tr th {\n",
       "        vertical-align: top;\n",
       "    }\n",
       "\n",
       "    .dataframe thead th {\n",
       "        text-align: right;\n",
       "    }\n",
       "</style>\n",
       "<table border=\"1\" class=\"dataframe\">\n",
       "  <thead>\n",
       "    <tr style=\"text-align: right;\">\n",
       "      <th></th>\n",
       "      <th>date</th>\n",
       "      <th>price</th>\n",
       "      <th>price_return</th>\n",
       "    </tr>\n",
       "  </thead>\n",
       "  <tbody>\n",
       "    <tr>\n",
       "      <th>0</th>\n",
       "      <td>2015-01-02</td>\n",
       "      <td>5.621</td>\n",
       "      <td>NaN</td>\n",
       "    </tr>\n",
       "    <tr>\n",
       "      <th>1</th>\n",
       "      <td>2015-01-05</td>\n",
       "      <td>5.424</td>\n",
       "      <td>-0.035047</td>\n",
       "    </tr>\n",
       "    <tr>\n",
       "      <th>2</th>\n",
       "      <td>2015-01-06</td>\n",
       "      <td>5.329</td>\n",
       "      <td>-0.017515</td>\n",
       "    </tr>\n",
       "    <tr>\n",
       "      <th>3</th>\n",
       "      <td>2015-01-07</td>\n",
       "      <td>5.224</td>\n",
       "      <td>-0.019704</td>\n",
       "    </tr>\n",
       "    <tr>\n",
       "      <th>4</th>\n",
       "      <td>2015-01-08</td>\n",
       "      <td>5.453</td>\n",
       "      <td>0.043836</td>\n",
       "    </tr>\n",
       "    <tr>\n",
       "      <th>...</th>\n",
       "      <td>...</td>\n",
       "      <td>...</td>\n",
       "      <td>...</td>\n",
       "    </tr>\n",
       "    <tr>\n",
       "      <th>1018</th>\n",
       "      <td>2018-12-21</td>\n",
       "      <td>4.045</td>\n",
       "      <td>-0.001481</td>\n",
       "    </tr>\n",
       "    <tr>\n",
       "      <th>1019</th>\n",
       "      <td>2018-12-24</td>\n",
       "      <td>4.010</td>\n",
       "      <td>-0.008653</td>\n",
       "    </tr>\n",
       "    <tr>\n",
       "      <th>1020</th>\n",
       "      <td>2018-12-27</td>\n",
       "      <td>3.938</td>\n",
       "      <td>-0.017955</td>\n",
       "    </tr>\n",
       "    <tr>\n",
       "      <th>1021</th>\n",
       "      <td>2018-12-28</td>\n",
       "      <td>4.088</td>\n",
       "      <td>0.038090</td>\n",
       "    </tr>\n",
       "    <tr>\n",
       "      <th>1022</th>\n",
       "      <td>2018-12-31</td>\n",
       "      <td>4.119</td>\n",
       "      <td>0.007583</td>\n",
       "    </tr>\n",
       "  </tbody>\n",
       "</table>\n",
       "<p>1023 rows × 3 columns</p>\n",
       "</div>"
      ],
      "text/plain": [
       "           date  price  price_return\n",
       "0    2015-01-02  5.621           NaN\n",
       "1    2015-01-05  5.424     -0.035047\n",
       "2    2015-01-06  5.329     -0.017515\n",
       "3    2015-01-07  5.224     -0.019704\n",
       "4    2015-01-08  5.453      0.043836\n",
       "...         ...    ...           ...\n",
       "1018 2018-12-21  4.045     -0.001481\n",
       "1019 2018-12-24  4.010     -0.008653\n",
       "1020 2018-12-27  3.938     -0.017955\n",
       "1021 2018-12-28  4.088      0.038090\n",
       "1022 2018-12-31  4.119      0.007583\n",
       "\n",
       "[1023 rows x 3 columns]"
      ]
     },
     "execution_count": 38,
     "metadata": {},
     "output_type": "execute_result"
    }
   ],
   "source": [
    "data"
   ]
  },
  {
   "cell_type": "markdown",
   "metadata": {},
   "source": [
    "We separate the positive and negative returns. We also make them positive."
   ]
  },
  {
   "cell_type": "code",
   "execution_count": 39,
   "metadata": {},
   "outputs": [],
   "source": [
    "data_Q3 = data[\"price_return\"].copy()\n",
    "data_Q3.dropna(inplace = True)\n",
    "data_Q3_negative = abs(data_Q3[data_Q3 < 0])\n",
    "data_Q3_positive = data_Q3[data_Q3 >= 0]"
   ]
  },
  {
   "cell_type": "code",
   "execution_count": 40,
   "metadata": {},
   "outputs": [
    {
     "data": {
      "text/plain": [
       "4       0.043836\n",
       "7       0.025836\n",
       "9       0.020523\n",
       "10      0.013284\n",
       "11      0.026038\n",
       "          ...   \n",
       "1010    0.019595\n",
       "1011    0.026287\n",
       "1015    0.004512\n",
       "1021    0.038090\n",
       "1022    0.007583\n",
       "Name: price_return, Length: 503, dtype: float64"
      ]
     },
     "execution_count": 40,
     "metadata": {},
     "output_type": "execute_result"
    }
   ],
   "source": [
    "data_Q3_positive"
   ]
  },
  {
   "cell_type": "code",
   "execution_count": 41,
   "metadata": {},
   "outputs": [
    {
     "data": {
      "text/plain": [
       "1       0.035047\n",
       "2       0.017515\n",
       "3       0.019704\n",
       "5       0.020723\n",
       "6       0.014232\n",
       "          ...   \n",
       "1016    0.063328\n",
       "1017    0.028770\n",
       "1018    0.001481\n",
       "1019    0.008653\n",
       "1020    0.017955\n",
       "Name: price_return, Length: 519, dtype: float64"
      ]
     },
     "execution_count": 41,
     "metadata": {},
     "output_type": "execute_result"
    }
   ],
   "source": [
    "data_Q3_negative"
   ]
  },
  {
   "cell_type": "markdown",
   "metadata": {},
   "source": [
    "#### Recall Pickands estimator"
   ]
  },
  {
   "cell_type": "markdown",
   "metadata": {},
   "source": [
    "Let $(X_n)$ be a sequence of i.i.d. random variables, whose cdf $F$ belongs to the max-domain of attraction of a GEV distribution of parameter $\\xi \\in \\mathbb{R}$.<br> $X_{i : n}$ represent the order statistics of the sample $(X_1, X_2, \\dots, X_n)$, such that:\n",
    "$$\n",
    "X_{1:n} \\leq X_{2:n} \\leq \\dots \\leq X_{n:n}$$\n",
    "Let $k$ be a function $\\mathbb{N} \\to \\mathbb{N}$. If\n",
    "$$\n",
    "\\lim_{n \\to \\infty} k(n) = \\infty\n",
    "$$\n",
    "and\n",
    "$$\n",
    "\\lim_{n \\to \\infty} \\frac{k(n)}{n} = 0,\n",
    "$$\n",
    "then, the pickhands estimator of the GEV parameter $\\xi$ is given by :\n",
    "$$\n",
    "\\xi_{k(n), n}^{P} = \\frac{1}{\\log(2)} \\log\\left(\\frac{X_{n - k(n) + 1 : n} - X_{n - 2k(n) + 1 : n}}{X_{n - 2k(n) + 1 : n} - X_{n - 4k(n) + 1 : n}}\\right),\n",
    "$$\n"
   ]
  },
  {
   "cell_type": "markdown",
   "metadata": {},
   "source": [
    "We define the following functions :"
   ]
  },
  {
   "cell_type": "code",
   "execution_count": 42,
   "metadata": {},
   "outputs": [],
   "source": [
    "k = lambda n : n**(1/5)"
   ]
  },
  {
   "cell_type": "markdown",
   "metadata": {},
   "source": [
    "It satifies the condition for the convergence of the estimator. We compute the estimator :"
   ]
  },
  {
   "cell_type": "code",
   "execution_count": 43,
   "metadata": {},
   "outputs": [],
   "source": [
    "def Pickands_estimator(price_return, k):\n",
    "    n = len(price_return)\n",
    "    price_reutrn_sorted = np.sort(price_return)\n",
    "    \n",
    "    x_nk = price_reutrn_sorted[int(np.floor(-k(n) + 1))] \n",
    "    x_n2k = price_reutrn_sorted[int(np.floor(-2*k(n) + 1))]  \n",
    "    x_n4k = price_reutrn_sorted[int(np.floor(-4*k(n) + 1))] \n",
    "    \n",
    "    delta_num = x_nk - x_n2k\n",
    "    delta_den = x_n2k - x_n4k\n",
    "    delta = delta_num / delta_den\n",
    "    \n",
    "    return np.log(delta) / np.log(2)"
   ]
  },
  {
   "cell_type": "markdown",
   "metadata": {},
   "source": [
    "Let's test"
   ]
  },
  {
   "cell_type": "code",
   "execution_count": 44,
   "metadata": {},
   "outputs": [
    {
     "data": {
      "text/plain": [
       "-0.30172719722799335"
      ]
     },
     "execution_count": 44,
     "metadata": {},
     "output_type": "execute_result"
    }
   ],
   "source": [
    "Pickands_estimator(data_Q3_negative, k)"
   ]
  },
  {
   "cell_type": "markdown",
   "metadata": {},
   "source": [
    "So $\\xi < 0$, the nature of the negative returns are of the Weibull kind"
   ]
  },
  {
   "cell_type": "code",
   "execution_count": 45,
   "metadata": {},
   "outputs": [
    {
     "data": {
      "text/plain": [
       "0.06277031346758448"
      ]
     },
     "execution_count": 45,
     "metadata": {},
     "output_type": "execute_result"
    }
   ],
   "source": [
    "Pickands_estimator(data_Q3_positive, k)"
   ]
  },
  {
   "cell_type": "markdown",
   "metadata": {},
   "source": [
    "So $\\xi > 0$, the nature of the positive returns are of the Fréchet kind"
   ]
  },
  {
   "cell_type": "markdown",
   "metadata": {},
   "source": [
    "#### C.b)"
   ]
  },
  {
   "cell_type": "markdown",
   "metadata": {},
   "source": [
    "We want to compute this quatity:\n",
    "$$\n",
    "\\hat{\\theta}_n^B(u; b) = \\frac{\\sum_{i=1}^k \\mathbb{1}(M_{(i-1)b, ib} > u)}{\\sum_{i=1}^{kb} \\mathbb{1}(X_i > u)} \n",
    "$$"
   ]
  },
  {
   "cell_type": "markdown",
   "metadata": {},
   "source": [
    "Where $b$ is the size of the blocks, $u$ a threshold"
   ]
  },
  {
   "cell_type": "code",
   "execution_count": 46,
   "metadata": {},
   "outputs": [],
   "source": [
    "def extremal_index_blocks(price_return, u, b):\n",
    "    n_blocks = len(price_return) // b\n",
    "    blocks = [price_return[i * b: (i + 1) * b] for i in range(n_blocks)]\n",
    "    cluster_count = sum(1 for block in blocks if np.max(block) > u)\n",
    "    over_thresh = np.sum(price_return > u)\n",
    "    theta = cluster_count / over_thresh if over_thresh > 0 else 0 #extremal index\n",
    "    return theta"
   ]
  },
  {
   "cell_type": "markdown",
   "metadata": {},
   "source": [
    "So we compute and we get :"
   ]
  },
  {
   "cell_type": "code",
   "execution_count": 47,
   "metadata": {},
   "outputs": [
    {
     "data": {
      "text/plain": [
       "0.7931034482758621"
      ]
     },
     "execution_count": 47,
     "metadata": {},
     "output_type": "execute_result"
    }
   ],
   "source": [
    "extremal_index_blocks(data_Q3, 0.04, 10)"
   ]
  },
  {
   "cell_type": "markdown",
   "metadata": {},
   "source": [
    "### Question D (Ex2, Q3 and Q4 of TD4) "
   ]
  },
  {
   "cell_type": "markdown",
   "metadata": {},
   "source": [
    "#### D.a) "
   ]
  },
  {
   "cell_type": "markdown",
   "metadata": {},
   "source": [
    "For this question we use the dataset of the td4 "
   ]
  },
  {
   "cell_type": "code",
   "execution_count": 53,
   "metadata": {},
   "outputs": [
    {
     "data": {
      "text/html": [
       "<div>\n",
       "<style scoped>\n",
       "    .dataframe tbody tr th:only-of-type {\n",
       "        vertical-align: middle;\n",
       "    }\n",
       "\n",
       "    .dataframe tbody tr th {\n",
       "        vertical-align: top;\n",
       "    }\n",
       "\n",
       "    .dataframe thead th {\n",
       "        text-align: right;\n",
       "    }\n",
       "</style>\n",
       "<table border=\"1\" class=\"dataframe\">\n",
       "  <thead>\n",
       "    <tr style=\"text-align: right;\">\n",
       "      <th></th>\n",
       "      <th>transaction date (1=1day=24 hours)</th>\n",
       "      <th>bid-ask spread</th>\n",
       "      <th>volume of the transaction (if known)</th>\n",
       "      <th>Sign of the transaction</th>\n",
       "      <th>Price (before transaction)</th>\n",
       "    </tr>\n",
       "  </thead>\n",
       "  <tbody>\n",
       "    <tr>\n",
       "      <th>0</th>\n",
       "      <td>0,000202</td>\n",
       "      <td>0,11</td>\n",
       "      <td>8.0</td>\n",
       "      <td>-1</td>\n",
       "      <td>100</td>\n",
       "    </tr>\n",
       "    <tr>\n",
       "      <th>1</th>\n",
       "      <td>0,00107</td>\n",
       "      <td>0,103</td>\n",
       "      <td>NaN</td>\n",
       "      <td>1</td>\n",
       "      <td>99,984</td>\n",
       "    </tr>\n",
       "    <tr>\n",
       "      <th>2</th>\n",
       "      <td>0,001496</td>\n",
       "      <td>0,1015</td>\n",
       "      <td>NaN</td>\n",
       "      <td>-1</td>\n",
       "      <td>100,029</td>\n",
       "    </tr>\n",
       "    <tr>\n",
       "      <th>3</th>\n",
       "      <td>0,003336</td>\n",
       "      <td>0,092</td>\n",
       "      <td>NaN</td>\n",
       "      <td>1</td>\n",
       "      <td>99,979</td>\n",
       "    </tr>\n",
       "    <tr>\n",
       "      <th>4</th>\n",
       "      <td>0,003952</td>\n",
       "      <td>0,1106</td>\n",
       "      <td>NaN</td>\n",
       "      <td>1</td>\n",
       "      <td>100,06</td>\n",
       "    </tr>\n",
       "  </tbody>\n",
       "</table>\n",
       "</div>"
      ],
      "text/plain": [
       "  transaction date (1=1day=24 hours) bid-ask spread  \\\n",
       "0                           0,000202           0,11   \n",
       "1                            0,00107          0,103   \n",
       "2                           0,001496         0,1015   \n",
       "3                           0,003336          0,092   \n",
       "4                           0,003952         0,1106   \n",
       "\n",
       "   volume of the transaction (if known)  Sign of the transaction  \\\n",
       "0                                   8.0                       -1   \n",
       "1                                   NaN                        1   \n",
       "2                                   NaN                       -1   \n",
       "3                                   NaN                        1   \n",
       "4                                   NaN                        1   \n",
       "\n",
       "  Price (before transaction)  \n",
       "0                        100  \n",
       "1                     99,984  \n",
       "2                    100,029  \n",
       "3                     99,979  \n",
       "4                     100,06  "
      ]
     },
     "execution_count": 53,
     "metadata": {},
     "output_type": "execute_result"
    }
   ],
   "source": [
    "data_TD4=pd.read_csv(\"DatasetTD4.csv\",sep=\";\")\n",
    "data_TD4.head()"
   ]
  },
  {
   "cell_type": "code",
   "execution_count": 54,
   "metadata": {},
   "outputs": [
    {
     "name": "stdout",
     "output_type": "stream",
     "text": [
      "<class 'pandas.core.frame.DataFrame'>\n",
      "RangeIndex: 1001 entries, 0 to 1000\n",
      "Data columns (total 5 columns):\n",
      " #   Column                                Non-Null Count  Dtype  \n",
      "---  ------                                --------------  -----  \n",
      " 0   transaction date (1=1day=24 hours)    1001 non-null   object \n",
      " 1   bid-ask spread                        1001 non-null   object \n",
      " 2   volume of the transaction (if known)  137 non-null    float64\n",
      " 3   Sign of the transaction               1001 non-null   int64  \n",
      " 4   Price (before transaction)            1001 non-null   object \n",
      "dtypes: float64(1), int64(1), object(3)\n",
      "memory usage: 39.2+ KB\n"
     ]
    }
   ],
   "source": [
    "data_TD4.info()"
   ]
  },
  {
   "cell_type": "markdown",
   "metadata": {},
   "source": [
    "we need to convert in float"
   ]
  },
  {
   "cell_type": "code",
   "execution_count": 55,
   "metadata": {},
   "outputs": [],
   "source": [
    "columns = ['transaction date (1=1day=24 hours)', 'bid-ask spread', 'Price (before transaction)']\n",
    "\n",
    "# Loop through the columns and replace commas and convert to float\n",
    "for i in columns:\n",
    "    data_TD4[i] = data_TD4[i].str.replace(',', '.').astype(float)"
   ]
  },
  {
   "cell_type": "code",
   "execution_count": 56,
   "metadata": {},
   "outputs": [
    {
     "name": "stdout",
     "output_type": "stream",
     "text": [
      "<class 'pandas.core.frame.DataFrame'>\n",
      "RangeIndex: 1001 entries, 0 to 1000\n",
      "Data columns (total 5 columns):\n",
      " #   Column                                Non-Null Count  Dtype  \n",
      "---  ------                                --------------  -----  \n",
      " 0   transaction date (1=1day=24 hours)    1001 non-null   float64\n",
      " 1   bid-ask spread                        1001 non-null   float64\n",
      " 2   volume of the transaction (if known)  137 non-null    float64\n",
      " 3   Sign of the transaction               1001 non-null   int64  \n",
      " 4   Price (before transaction)            1001 non-null   float64\n",
      "dtypes: float64(4), int64(1)\n",
      "memory usage: 39.2 KB\n"
     ]
    }
   ],
   "source": [
    "data_TD4.info()"
   ]
  },
  {
   "cell_type": "markdown",
   "metadata": {},
   "source": [
    "We are going to use 2 methods:<br>\n",
    "1) The linear regression method that we used in class. However, we noticed that this method was not very well adapted to our needs\n",
    "2) Theoretical method that we're going to explain in detail"
   ]
  },
  {
   "cell_type": "code",
   "execution_count": null,
   "metadata": {},
   "outputs": [],
   "source": [
    "data_Q4[\"price_variation\"]=data_Q4[\"Price (before transaction)\"].diff()\n",
    "data_Q4['volume_sign'] = (data_Q4['volume of the transaction (if known)'] * data_Q4['Sign of the transaction'])\n",
    "data_Q4"
   ]
  },
  {
   "cell_type": "markdown",
   "metadata": {},
   "source": [
    "The linear regression method that we used in class. However, we noticed that this method was not very well adapted to our needs\n"
   ]
  },
  {
   "cell_type": "code",
   "execution_count": 57,
   "metadata": {},
   "outputs": [
    {
     "data": {
      "text/html": [
       "<div>\n",
       "<style scoped>\n",
       "    .dataframe tbody tr th:only-of-type {\n",
       "        vertical-align: middle;\n",
       "    }\n",
       "\n",
       "    .dataframe tbody tr th {\n",
       "        vertical-align: top;\n",
       "    }\n",
       "\n",
       "    .dataframe thead th {\n",
       "        text-align: right;\n",
       "    }\n",
       "</style>\n",
       "<table border=\"1\" class=\"dataframe\">\n",
       "  <thead>\n",
       "    <tr style=\"text-align: right;\">\n",
       "      <th></th>\n",
       "      <th>transaction date (1=1day=24 hours)</th>\n",
       "      <th>bid-ask spread</th>\n",
       "      <th>volume of the transaction (if known)</th>\n",
       "      <th>Sign of the transaction</th>\n",
       "      <th>Price (before transaction)</th>\n",
       "      <th>sign x vol_transaction</th>\n",
       "      <th>price variation</th>\n",
       "    </tr>\n",
       "  </thead>\n",
       "  <tbody>\n",
       "    <tr>\n",
       "      <th>0</th>\n",
       "      <td>0.000202</td>\n",
       "      <td>0.1100</td>\n",
       "      <td>8.0</td>\n",
       "      <td>-1</td>\n",
       "      <td>100.000</td>\n",
       "      <td>-8.0</td>\n",
       "      <td>-0.016</td>\n",
       "    </tr>\n",
       "    <tr>\n",
       "      <th>1</th>\n",
       "      <td>0.001070</td>\n",
       "      <td>0.1030</td>\n",
       "      <td>NaN</td>\n",
       "      <td>1</td>\n",
       "      <td>99.984</td>\n",
       "      <td>NaN</td>\n",
       "      <td>0.045</td>\n",
       "    </tr>\n",
       "    <tr>\n",
       "      <th>2</th>\n",
       "      <td>0.001496</td>\n",
       "      <td>0.1015</td>\n",
       "      <td>NaN</td>\n",
       "      <td>-1</td>\n",
       "      <td>100.029</td>\n",
       "      <td>NaN</td>\n",
       "      <td>-0.050</td>\n",
       "    </tr>\n",
       "    <tr>\n",
       "      <th>3</th>\n",
       "      <td>0.003336</td>\n",
       "      <td>0.0920</td>\n",
       "      <td>NaN</td>\n",
       "      <td>1</td>\n",
       "      <td>99.979</td>\n",
       "      <td>NaN</td>\n",
       "      <td>0.081</td>\n",
       "    </tr>\n",
       "    <tr>\n",
       "      <th>4</th>\n",
       "      <td>0.003952</td>\n",
       "      <td>0.1106</td>\n",
       "      <td>NaN</td>\n",
       "      <td>1</td>\n",
       "      <td>100.060</td>\n",
       "      <td>NaN</td>\n",
       "      <td>0.100</td>\n",
       "    </tr>\n",
       "  </tbody>\n",
       "</table>\n",
       "</div>"
      ],
      "text/plain": [
       "   transaction date (1=1day=24 hours)  bid-ask spread  \\\n",
       "0                            0.000202          0.1100   \n",
       "1                            0.001070          0.1030   \n",
       "2                            0.001496          0.1015   \n",
       "3                            0.003336          0.0920   \n",
       "4                            0.003952          0.1106   \n",
       "\n",
       "   volume of the transaction (if known)  Sign of the transaction  \\\n",
       "0                                   8.0                       -1   \n",
       "1                                   NaN                        1   \n",
       "2                                   NaN                       -1   \n",
       "3                                   NaN                        1   \n",
       "4                                   NaN                        1   \n",
       "\n",
       "   Price (before transaction)  sign x vol_transaction  price variation  \n",
       "0                     100.000                    -8.0           -0.016  \n",
       "1                      99.984                     NaN            0.045  \n",
       "2                     100.029                     NaN           -0.050  \n",
       "3                      99.979                     NaN            0.081  \n",
       "4                     100.060                     NaN            0.100  "
      ]
     },
     "execution_count": 57,
     "metadata": {},
     "output_type": "execute_result"
    }
   ],
   "source": [
    "data_TD4[\"sign x vol_transaction\"]=data_TD4[\"volume of the transaction (if known)\"] * data_TD4[\"Sign of the transaction\"]\n",
    "data_TD4[\"price variation\"]=data_TD4['Price (before transaction)'].diff().shift(-1)\n",
    "data_TD4.head()"
   ]
  },
  {
   "cell_type": "code",
   "execution_count": 59,
   "metadata": {},
   "outputs": [],
   "source": [
    "df_filtred = data_TD4.dropna(subset=[\"sign x vol_transaction\"])[[\"price variation\", \"sign x vol_transaction\",\"volume of the transaction (if known)\",'Sign of the transaction',\"Price (before transaction)\"]]"
   ]
  },
  {
   "cell_type": "code",
   "execution_count": 60,
   "metadata": {},
   "outputs": [
    {
     "name": "stdout",
     "output_type": "stream",
     "text": [
      "gamma = 1829.9192061070537\n",
      "const = 2.06583877505829\n"
     ]
    }
   ],
   "source": [
    "from sklearn.linear_model import LinearRegression\n",
    "X = df_filtred[['price variation']]  \n",
    "y = df_filtred['sign x vol_transaction']\n",
    "model = LinearRegression()\n",
    "model.fit(X, y)\n",
    "\n",
    "const = model.intercept_\n",
    "gamma = model.coef_[0]\n",
    "\n",
    "print(\"gamma =\", gamma)\n",
    "print(\"const =\", const)\n"
   ]
  },
  {
   "cell_type": "code",
   "execution_count": 61,
   "metadata": {},
   "outputs": [
    {
     "name": "stderr",
     "output_type": "stream",
     "text": [
      "/opt/anaconda3/lib/python3.11/site-packages/sklearn/base.py:439: UserWarning: X does not have valid feature names, but LinearRegression was fitted with feature names\n",
      "  warnings.warn(\n"
     ]
    },
    {
     "data": {
      "image/png": "[encoded data removed]",
      "text/plain": [
       "<Figure size 1000x600 with 1 Axes>"
      ]
     },
     "metadata": {},
     "output_type": "display_data"
    }
   ],
   "source": [
    "# Préparation des données pour le tracé de la ligne de régression\n",
    "x_min_max = np.array([[X['price variation'].min()], [X['price variation'].max()]])\n",
    "y_pred = model.predict(x_min_max)\n",
    "\n",
    "# Tracé des données et de la ligne de régression\n",
    "plt.figure(figsize=(10, 6))\n",
    "plt.scatter(X, y, color='blue', label='Data Points')  # Points de données\n",
    "plt.plot(x_min_max, y_pred, color='red', label='Regression Line')  # Ligne de régression\n",
    "plt.title('Regression Analysis: Sign x Volume of Transaction by Price Variation')\n",
    "plt.xlabel('Price Variation')\n",
    "plt.ylabel('Sign x Volume of Transaction')\n",
    "plt.legend()\n",
    "plt.show()"
   ]
  },
  {
   "cell_type": "markdown",
   "metadata": {},
   "source": [
    "Computation of $\\tau$. We are going to average the times in between executions :"
   ]
  },
  {
   "cell_type": "code",
   "execution_count": 62,
   "metadata": {},
   "outputs": [
    {
     "data": {
      "text/plain": [
       "0.041666666666666664"
      ]
     },
     "execution_count": 62,
     "metadata": {},
     "output_type": "execute_result"
    }
   ],
   "source": [
    "tau = 1 / 24.0\n",
    "tau"
   ]
  },
  {
   "cell_type": "markdown",
   "metadata": {},
   "source": [
    "Since $t_k = 1 \\Leftrightarrow t_k = 24 \\text{ hrs}$, $\\tau = 24 \\times t$ "
   ]
  },
  {
   "cell_type": "code",
   "execution_count": 63,
   "metadata": {},
   "outputs": [],
   "source": [
    "X=df_filtred[['price variation']] "
   ]
  },
  {
   "cell_type": "code",
   "execution_count": 64,
   "metadata": {},
   "outputs": [],
   "source": [
    "y_pred=model.predict(X)"
   ]
  },
  {
   "cell_type": "code",
   "execution_count": 65,
   "metadata": {},
   "outputs": [
    {
     "data": {
      "text/html": [
       "<style>#sk-container-id-1 {color: black;background-color: white;}#sk-container-id-1 pre{padding: 0;}#sk-container-id-1 div.sk-toggleable {background-color: white;}#sk-container-id-1 label.sk-toggleable__label {cursor: pointer;display: block;width: 100%;margin-bottom: 0;padding: 0.3em;box-sizing: border-box;text-align: center;}#sk-container-id-1 label.sk-toggleable__label-arrow:before {content: \"▸\";float: left;margin-right: 0.25em;color: #696969;}#sk-container-id-1 label.sk-toggleable__label-arrow:hover:before {color: black;}#sk-container-id-1 div.sk-estimator:hover label.sk-toggleable__label-arrow:before {color: black;}#sk-container-id-1 div.sk-toggleable__content {max-height: 0;max-width: 0;overflow: hidden;text-align: left;background-color: #f0f8ff;}#sk-container-id-1 div.sk-toggleable__content pre {margin: 0.2em;color: black;border-radius: 0.25em;background-color: #f0f8ff;}#sk-container-id-1 input.sk-toggleable__control:checked~div.sk-toggleable__content {max-height: 200px;max-width: 100%;overflow: auto;}#sk-container-id-1 input.sk-toggleable__control:checked~label.sk-toggleable__label-arrow:before {content: \"▾\";}#sk-container-id-1 div.sk-estimator input.sk-toggleable__control:checked~label.sk-toggleable__label {background-color: #d4ebff;}#sk-container-id-1 div.sk-label input.sk-toggleable__control:checked~label.sk-toggleable__label {background-color: #d4ebff;}#sk-container-id-1 input.sk-hidden--visually {border: 0;clip: rect(1px 1px 1px 1px);clip: rect(1px, 1px, 1px, 1px);height: 1px;margin: -1px;overflow: hidden;padding: 0;position: absolute;width: 1px;}#sk-container-id-1 div.sk-estimator {font-family: monospace;background-color: #f0f8ff;border: 1px dotted black;border-radius: 0.25em;box-sizing: border-box;margin-bottom: 0.5em;}#sk-container-id-1 div.sk-estimator:hover {background-color: #d4ebff;}#sk-container-id-1 div.sk-parallel-item::after {content: \"\";width: 100%;border-bottom: 1px solid gray;flex-grow: 1;}#sk-container-id-1 div.sk-label:hover label.sk-toggleable__label {background-color: #d4ebff;}#sk-container-id-1 div.sk-serial::before {content: \"\";position: absolute;border-left: 1px solid gray;box-sizing: border-box;top: 0;bottom: 0;left: 50%;z-index: 0;}#sk-container-id-1 div.sk-serial {display: flex;flex-direction: column;align-items: center;background-color: white;padding-right: 0.2em;padding-left: 0.2em;position: relative;}#sk-container-id-1 div.sk-item {position: relative;z-index: 1;}#sk-container-id-1 div.sk-parallel {display: flex;align-items: stretch;justify-content: center;background-color: white;position: relative;}#sk-container-id-1 div.sk-item::before, #sk-container-id-1 div.sk-parallel-item::before {content: \"\";position: absolute;border-left: 1px solid gray;box-sizing: border-box;top: 0;bottom: 0;left: 50%;z-index: -1;}#sk-container-id-1 div.sk-parallel-item {display: flex;flex-direction: column;z-index: 1;position: relative;background-color: white;}#sk-container-id-1 div.sk-parallel-item:first-child::after {align-self: flex-end;width: 50%;}#sk-container-id-1 div.sk-parallel-item:last-child::after {align-self: flex-start;width: 50%;}#sk-container-id-1 div.sk-parallel-item:only-child::after {width: 0;}#sk-container-id-1 div.sk-dashed-wrapped {border: 1px dashed gray;margin: 0 0.4em 0.5em 0.4em;box-sizing: border-box;padding-bottom: 0.4em;background-color: white;}#sk-container-id-1 div.sk-label label {font-family: monospace;font-weight: bold;display: inline-block;line-height: 1.2em;}#sk-container-id-1 div.sk-label-container {text-align: center;}#sk-container-id-1 div.sk-container {/* jupyter's `normalize.less` sets `[hidden] { display: none; }` but bootstrap.min.css set `[hidden] { display: none !important; }` so we also need the `!important` here to be able to override the default hidden behavior on the sphinx rendered scikit-learn.org. See: https://github.com/scikit-learn/scikit-learn/issues/21755 */display: inline-block !important;position: relative;}#sk-container-id-1 div.sk-text-repr-fallback {display: none;}</style><div id=\"sk-container-id-1\" class=\"sk-top-container\"><div class=\"sk-text-repr-fallback\"><pre>LinearRegression()</pre><b>In a Jupyter environment, please rerun this cell to show the HTML representation or trust the notebook. <br />On GitHub, the HTML representation is unable to render, please try loading this page with nbviewer.org.</b></div><div class=\"sk-container\" hidden><div class=\"sk-item\"><div class=\"sk-estimator sk-toggleable\"><input class=\"sk-toggleable__control sk-hidden--visually\" id=\"sk-estimator-id-1\" type=\"checkbox\" checked><label for=\"sk-estimator-id-1\" class=\"sk-toggleable__label sk-toggleable__label-arrow\">LinearRegression</label><div class=\"sk-toggleable__content\"><pre>LinearRegression()</pre></div></div></div></div></div>"
      ],
      "text/plain": [
       "LinearRegression()"
      ]
     },
     "execution_count": 65,
     "metadata": {},
     "output_type": "execute_result"
    }
   ],
   "source": [
    "from sklearn.metrics import mean_squared_error, r2_score\n",
    "\n",
    "volume_signed = df_filtred[\"sign x vol_transaction\"]\n",
    "volume_signed_squared = (df_filtred[\"volume of the transaction (if known)\"].values.astype(int))*(df_filtred[\"volume of the transaction (if known)\"].values.astype(int)) *(df_filtred['Sign of the transaction'].values.astype(int))\n",
    "\n",
    "data_delta_price_eta =   (df_filtred['Price (before transaction)'] - df_filtred['Price (before transaction)'].shift(-1) ).values.astype(float)\n",
    "data_delta_price_eta=data_delta_price_eta[:-1]\n",
    "X_eta = np.column_stack((volume_signed, volume_signed_squared)) # we want to look at impact of order two\n",
    "y_eta = data_delta_price_eta\n",
    "X_eta=X_eta[:-1]\n",
    "\n",
    "\n",
    "average_spread = np.mean(data_TD4['bid-ask spread'].values.astype(float))\n",
    "epsilon = average_spread / 2\n",
    "\n",
    "model.fit(X_eta,y_eta)"
   ]
  },
  {
   "cell_type": "markdown",
   "metadata": {},
   "source": [
    "In a Jupyter environment, please rerun this cell to show the HTML representation or trust the notebook.\n",
    "On GitHub, the HTML representation is unable to render, please try loading this page with nbviewer.org."
   ]
  },
  {
   "cell_type": "code",
   "execution_count": 66,
   "metadata": {},
   "outputs": [],
   "source": [
    "mse_gamma = mean_squared_error(y, y_pred)\n",
    "r2_gamma = r2_score(y, y_pred)\n",
    "\n",
    "data_TD4['Returns'] = (data_TD4['Price (before transaction)'].shift(1) - data_TD4['Price (before transaction)']) / data_TD4['Price (before transaction)']\n",
    "sigma = np.std(data_TD4['Returns'])"
   ]
  },
  {
   "cell_type": "code",
   "execution_count": 67,
   "metadata": {},
   "outputs": [
    {
     "name": "stdout",
     "output_type": "stream",
     "text": [
      "Estimated Gamma: 1829.9192061070537\n",
      "Estimated Eta: 2.624116610713045e-08\n",
      "Sigma: 0.0007380476897886703\n",
      "Epsilon: 0.05026138861138861\n",
      "Tau: 0.041666666666666664\n",
      "Lambda 2e-06\n",
      "MSE_gamma : 1787.5657382836832\n",
      "r2_gamma : 0.9193112589657633\n",
      "MSE_eta : 0.03158091353672661\n",
      "r2_eta: 0.20627651650960488\n"
     ]
    }
   ],
   "source": [
    "#Extraction of coefficient directeur but here at order of 2\n",
    "eta = model.coef_[1] * tau # 1 for the second with respect to volume_signed_squared and due to quadratic approximation we have to divide by tau\n",
    "#Let's compute predicted value \n",
    "y_pred = model.predict(X_eta)\n",
    "# Let's compute R2 and Mean Squared Error\n",
    "mse_eta = mean_squared_error(y_eta, y_pred)\n",
    "r2_eta = r2_score(y_eta, y_pred)\n",
    "lam = 2E-6 \n",
    "# Printing all our computed & defined parameters\n",
    "print(f\"Estimated Gamma: {gamma}\")\n",
    "print(f\"Estimated Eta: {eta}\")\n",
    "print(\"Sigma:\", sigma)\n",
    "print(\"Epsilon:\", epsilon)\n",
    "print(\"Tau:\", tau)\n",
    "print(\"Lambda\", lam)\n",
    "#Printing our computed measure to analyze our model\n",
    "print(f'MSE_gamma : {mse_gamma}')\n",
    "print(f'r2_gamma : {r2_gamma}')\n",
    "print(f'MSE_eta : {mse_eta}')\n",
    "print(f'r2_eta: {r2_eta}')"
   ]
  },
  {
   "cell_type": "markdown",
   "metadata": {},
   "source": [
    "## b) Liquidation strategy :"
   ]
  },
  {
   "cell_type": "markdown",
   "metadata": {},
   "source": [
    "Each tranche is computed such that :\n",
    "$$\n",
    "x_k = \\frac{\\sinh(K(T - (k - \\tau / 2)))}{\\sinh(KT)}X.\n",
    "$$\n",
    "Where :\n",
    "- $X$ : Total quantity to liquidate.\n",
    "- $T = 1 \\text{ day}$ : Time to do so.\n",
    "- $k$ : Trading period, one tick.\n",
    "- $K \\approx \\sqrt{\\frac{\\lambda \\sigma^2}{\\eta}}$ with $\\lambda$ the risk aversion. "
   ]
  },
  {
   "cell_type": "markdown",
   "metadata": {},
   "source": [
    "The data has one trading day of transactions so 24 hrs. We can only do one trade per hour."
   ]
  },
  {
   "cell_type": "code",
   "execution_count": 82,
   "metadata": {},
   "outputs": [],
   "source": [
    "X = 1000\n",
    "T = 1\n",
    "N = 24 # Trading periods.\n",
    "tau_liq = T / N\n",
    "lambda__ = 1\n",
    "K = np.sqrt(sigma**2 * lambda__/ eta_hat)\n",
    "\n",
    "\n",
    "x_N = np.sinh(K * (T - (np.arange(1, N + 1) - 0.5) * tau_liq)) / np.sinh(K * T) * X\n",
    "x_N = x_N / np.sum(x_N) * X  # Normalize to sum up to X, without this step, we don't liquidate all the shares."
   ]
  },
  {
   "cell_type": "code",
   "execution_count": 83,
   "metadata": {},
   "outputs": [
    {
     "data": {
      "image/png": "[encoded data removed]",
      "text/plain": [
       "<Figure size 640x480 with 1 Axes>"
      ]
     },
     "metadata": {},
     "output_type": "display_data"
    }
   ],
   "source": [
    "plt.figure()\n",
    "plt.plot(range(0, N), x_N, marker = 'o', linestyle = '-', color = 'blue')\n",
    "plt.xlabel('Trading Period')\n",
    "plt.ylabel('Order Size per Period (xk)')\n",
    "plt.title('Almgren-Chriss Liquidation Schedule')\n",
    "plt.grid(True)\n",
    "plt.xticks(range(0, N))\n",
    "plt.show()"
   ]
  },
  {
   "cell_type": "code",
   "execution_count": 84,
   "metadata": {},
   "outputs": [
    {
     "name": "stdout",
     "output_type": "stream",
     "text": [
      "Liquidation Schedule:\n",
      "Period 0: 144.66320648565656 shares\n",
      "Period 1: 124.89515172301584 shares\n",
      "Period 2: 107.81559896817747 shares\n",
      "Period 3: 93.05689254163532 shares\n",
      "Period 4: 80.30133546866357 shares\n",
      "Period 5: 69.2743507114171 shares\n",
      "Period 6: 59.738570603890714 shares\n",
      "Period 7: 51.488727258489284 shares\n",
      "Period 8: 44.34723395473426 shares\n",
      "Period 9: 38.16036239476159 shares\n",
      "Period 10: 32.794933536938856 shares\n",
      "Period 11: 28.135450774248326 shares\n",
      "Period 12: 24.081613746027514 shares\n",
      "Period 13: 20.54615926520053 shares\n",
      "Period 14: 17.452982884644594 shares\n",
      "Period 15: 14.735500667394286 shares\n",
      "Period 16: 12.335215896031395 shares\n",
      "Period 17: 10.200459868143707 shares\n",
      "Period 18: 8.285279672125222 shares\n",
      "Period 19: 6.548449001499943 shares\n",
      "Period 20: 4.952580714487193 shares\n",
      "Period 21: 3.463322035701924 shares\n",
      "Period 22: 2.048615075844063 shares\n",
      "Period 23: 0.6780067512705886 shares\n"
     ]
    }
   ],
   "source": [
    "print(\"Liquidation Schedule:\")\n",
    "for i in range(len(x_N)):\n",
    "    print(f\"Period {i}: {x_N[i]} shares\")"
   ]
  },
  {
   "cell_type": "code",
   "execution_count": 85,
   "metadata": {},
   "outputs": [
    {
     "data": {
      "text/plain": [
       "999.9999999999999"
      ]
     },
     "execution_count": 85,
     "metadata": {},
     "output_type": "execute_result"
    }
   ],
   "source": [
    "x_N.sum()"
   ]
  },
  {
   "cell_type": "markdown",
   "metadata": {},
   "source": [
    "We've successfully computed the optimal liquidation strategy according to Almgren and Chriss. Having access to a dark pool would be better though."
   ]
  },
  {
   "cell_type": "code",
   "execution_count": null,
   "metadata": {},
   "outputs": [],
   "source": []
  },
  {
   "cell_type": "code",
   "execution_count": null,
   "metadata": {},
   "outputs": [],
   "source": []
  },
  {
   "cell_type": "code",
   "execution_count": null,
   "metadata": {},
   "outputs": [],
   "source": []
  },
  {
   "cell_type": "code",
   "execution_count": null,
   "metadata": {},
   "outputs": [],
   "source": []
  },
  {
   "cell_type": "markdown",
   "metadata": {},
   "source": []
  },
  {
   "cell_type": "markdown",
   "metadata": {},
   "source": [
    "### Question E (Q2 and Q3 of TD5) "
   ]
  },
  {
   "cell_type": "markdown",
   "metadata": {},
   "source": [
    "First we have separate each exchange rate"
   ]
  },
  {
   "cell_type": "markdown",
   "metadata": {},
   "source": [
    "For CADEUR"
   ]
  },
  {
   "cell_type": "code",
   "execution_count": 98,
   "metadata": {},
   "outputs": [
    {
     "data": {
      "text/html": [
       "<div>\n",
       "<style scoped>\n",
       "    .dataframe tbody tr th:only-of-type {\n",
       "        vertical-align: middle;\n",
       "    }\n",
       "\n",
       "    .dataframe tbody tr th {\n",
       "        vertical-align: top;\n",
       "    }\n",
       "\n",
       "    .dataframe thead th {\n",
       "        text-align: right;\n",
       "    }\n",
       "</style>\n",
       "<table border=\"1\" class=\"dataframe\">\n",
       "  <thead>\n",
       "    <tr style=\"text-align: right;\">\n",
       "      <th></th>\n",
       "      <th>Date</th>\n",
       "      <th>HIGH</th>\n",
       "      <th>LOW</th>\n",
       "      <th>average</th>\n",
       "    </tr>\n",
       "  </thead>\n",
       "  <tbody>\n",
       "    <tr>\n",
       "      <th>0</th>\n",
       "      <td>07/03/2016 09:00</td>\n",
       "      <td>0.6842</td>\n",
       "      <td>0.6829</td>\n",
       "      <td>0.68355</td>\n",
       "    </tr>\n",
       "    <tr>\n",
       "      <th>1</th>\n",
       "      <td>07/03/2016 09:15</td>\n",
       "      <td>0.6849</td>\n",
       "      <td>0.6841</td>\n",
       "      <td>0.68450</td>\n",
       "    </tr>\n",
       "    <tr>\n",
       "      <th>2</th>\n",
       "      <td>07/03/2016 09:30</td>\n",
       "      <td>0.6844</td>\n",
       "      <td>0.6837</td>\n",
       "      <td>0.68405</td>\n",
       "    </tr>\n",
       "    <tr>\n",
       "      <th>3</th>\n",
       "      <td>07/03/2016 09:45</td>\n",
       "      <td>0.6844</td>\n",
       "      <td>0.6839</td>\n",
       "      <td>0.68415</td>\n",
       "    </tr>\n",
       "    <tr>\n",
       "      <th>4</th>\n",
       "      <td>07/03/2016 10:00</td>\n",
       "      <td>0.6840</td>\n",
       "      <td>0.6835</td>\n",
       "      <td>0.68375</td>\n",
       "    </tr>\n",
       "    <tr>\n",
       "      <th>...</th>\n",
       "      <td>...</td>\n",
       "      <td>...</td>\n",
       "      <td>...</td>\n",
       "      <td>...</td>\n",
       "    </tr>\n",
       "    <tr>\n",
       "      <th>12924</th>\n",
       "      <td>07/09/2016 17:00</td>\n",
       "      <td>0.6897</td>\n",
       "      <td>0.6893</td>\n",
       "      <td>0.68950</td>\n",
       "    </tr>\n",
       "    <tr>\n",
       "      <th>12925</th>\n",
       "      <td>07/09/2016 17:15</td>\n",
       "      <td>0.6902</td>\n",
       "      <td>0.6895</td>\n",
       "      <td>0.68985</td>\n",
       "    </tr>\n",
       "    <tr>\n",
       "      <th>12926</th>\n",
       "      <td>07/09/2016 17:30</td>\n",
       "      <td>0.6902</td>\n",
       "      <td>0.6898</td>\n",
       "      <td>0.69000</td>\n",
       "    </tr>\n",
       "    <tr>\n",
       "      <th>12927</th>\n",
       "      <td>07/09/2016 17:45</td>\n",
       "      <td>0.6902</td>\n",
       "      <td>0.6901</td>\n",
       "      <td>0.69015</td>\n",
       "    </tr>\n",
       "    <tr>\n",
       "      <th>12928</th>\n",
       "      <td>07/09/2016 18:00</td>\n",
       "      <td>0.6901</td>\n",
       "      <td>0.6901</td>\n",
       "      <td>0.69010</td>\n",
       "    </tr>\n",
       "  </tbody>\n",
       "</table>\n",
       "<p>12929 rows × 4 columns</p>\n",
       "</div>"
      ],
      "text/plain": [
       "                   Date    HIGH     LOW  average\n",
       "0      07/03/2016 09:00  0.6842  0.6829  0.68355\n",
       "1      07/03/2016 09:15  0.6849  0.6841  0.68450\n",
       "2      07/03/2016 09:30  0.6844  0.6837  0.68405\n",
       "3      07/03/2016 09:45  0.6844  0.6839  0.68415\n",
       "4      07/03/2016 10:00  0.6840  0.6835  0.68375\n",
       "...                 ...     ...     ...      ...\n",
       "12924  07/09/2016 17:00  0.6897  0.6893  0.68950\n",
       "12925  07/09/2016 17:15  0.6902  0.6895  0.68985\n",
       "12926  07/09/2016 17:30  0.6902  0.6898  0.69000\n",
       "12927  07/09/2016 17:45  0.6902  0.6901  0.69015\n",
       "12928  07/09/2016 18:00  0.6901  0.6901  0.69010\n",
       "\n",
       "[12929 rows x 4 columns]"
      ]
     },
     "execution_count": 98,
     "metadata": {},
     "output_type": "execute_result"
    }
   ],
   "source": [
    "data_C = pd.read_csv('TD5_CADEUR.csv', sep=\t';', decimal=',', header = 1) \n",
    "data_C[\"average\"] = 0.5 * (data_C[\"HIGH\"] + data_C[\"LOW\"])\n",
    "data_C"
   ]
  },
  {
   "cell_type": "markdown",
   "metadata": {},
   "source": [
    "For GPEUR"
   ]
  },
  {
   "cell_type": "code",
   "execution_count": 99,
   "metadata": {},
   "outputs": [
    {
     "data": {
      "text/html": [
       "<div>\n",
       "<style scoped>\n",
       "    .dataframe tbody tr th:only-of-type {\n",
       "        vertical-align: middle;\n",
       "    }\n",
       "\n",
       "    .dataframe tbody tr th {\n",
       "        vertical-align: top;\n",
       "    }\n",
       "\n",
       "    .dataframe thead th {\n",
       "        text-align: right;\n",
       "    }\n",
       "</style>\n",
       "<table border=\"1\" class=\"dataframe\">\n",
       "  <thead>\n",
       "    <tr style=\"text-align: right;\">\n",
       "      <th></th>\n",
       "      <th>Date</th>\n",
       "      <th>HIGH</th>\n",
       "      <th>LOW</th>\n",
       "      <th>average</th>\n",
       "    </tr>\n",
       "  </thead>\n",
       "  <tbody>\n",
       "    <tr>\n",
       "      <th>0</th>\n",
       "      <td>07/03/2016 09:00</td>\n",
       "      <td>1.2932</td>\n",
       "      <td>1.2917</td>\n",
       "      <td>1.29245</td>\n",
       "    </tr>\n",
       "    <tr>\n",
       "      <th>1</th>\n",
       "      <td>07/03/2016 09:15</td>\n",
       "      <td>1.2940</td>\n",
       "      <td>1.2930</td>\n",
       "      <td>1.29350</td>\n",
       "    </tr>\n",
       "    <tr>\n",
       "      <th>2</th>\n",
       "      <td>07/03/2016 09:30</td>\n",
       "      <td>1.2943</td>\n",
       "      <td>1.2922</td>\n",
       "      <td>1.29325</td>\n",
       "    </tr>\n",
       "    <tr>\n",
       "      <th>3</th>\n",
       "      <td>07/03/2016 09:45</td>\n",
       "      <td>1.2930</td>\n",
       "      <td>1.2913</td>\n",
       "      <td>1.29215</td>\n",
       "    </tr>\n",
       "    <tr>\n",
       "      <th>4</th>\n",
       "      <td>07/03/2016 10:00</td>\n",
       "      <td>1.2931</td>\n",
       "      <td>1.2921</td>\n",
       "      <td>1.29260</td>\n",
       "    </tr>\n",
       "    <tr>\n",
       "      <th>...</th>\n",
       "      <td>...</td>\n",
       "      <td>...</td>\n",
       "      <td>...</td>\n",
       "      <td>...</td>\n",
       "    </tr>\n",
       "    <tr>\n",
       "      <th>12924</th>\n",
       "      <td>07/09/2016 17:00</td>\n",
       "      <td>1.1879</td>\n",
       "      <td>1.1867</td>\n",
       "      <td>1.18730</td>\n",
       "    </tr>\n",
       "    <tr>\n",
       "      <th>12925</th>\n",
       "      <td>07/09/2016 17:15</td>\n",
       "      <td>1.1883</td>\n",
       "      <td>1.1874</td>\n",
       "      <td>1.18785</td>\n",
       "    </tr>\n",
       "    <tr>\n",
       "      <th>12926</th>\n",
       "      <td>07/09/2016 17:30</td>\n",
       "      <td>1.1880</td>\n",
       "      <td>1.1874</td>\n",
       "      <td>1.18770</td>\n",
       "    </tr>\n",
       "    <tr>\n",
       "      <th>12927</th>\n",
       "      <td>07/09/2016 17:45</td>\n",
       "      <td>1.1874</td>\n",
       "      <td>1.1866</td>\n",
       "      <td>1.18700</td>\n",
       "    </tr>\n",
       "    <tr>\n",
       "      <th>12928</th>\n",
       "      <td>07/09/2016 18:00</td>\n",
       "      <td>1.1870</td>\n",
       "      <td>1.1869</td>\n",
       "      <td>1.18695</td>\n",
       "    </tr>\n",
       "  </tbody>\n",
       "</table>\n",
       "<p>12929 rows × 4 columns</p>\n",
       "</div>"
      ],
      "text/plain": [
       "                   Date    HIGH     LOW  average\n",
       "0      07/03/2016 09:00  1.2932  1.2917  1.29245\n",
       "1      07/03/2016 09:15  1.2940  1.2930  1.29350\n",
       "2      07/03/2016 09:30  1.2943  1.2922  1.29325\n",
       "3      07/03/2016 09:45  1.2930  1.2913  1.29215\n",
       "4      07/03/2016 10:00  1.2931  1.2921  1.29260\n",
       "...                 ...     ...     ...      ...\n",
       "12924  07/09/2016 17:00  1.1879  1.1867  1.18730\n",
       "12925  07/09/2016 17:15  1.1883  1.1874  1.18785\n",
       "12926  07/09/2016 17:30  1.1880  1.1874  1.18770\n",
       "12927  07/09/2016 17:45  1.1874  1.1866  1.18700\n",
       "12928  07/09/2016 18:00  1.1870  1.1869  1.18695\n",
       "\n",
       "[12929 rows x 4 columns]"
      ]
     },
     "execution_count": 99,
     "metadata": {},
     "output_type": "execute_result"
    }
   ],
   "source": [
    "data_G = pd.read_csv('TD5_GBPEUR.csv', sep=\t';', decimal=',', header = 1) \n",
    "data_G[\"average\"] = 0.5 * (data_G[\"HIGH\"] + data_G[\"LOW\"])\n",
    "data_G"
   ]
  },
  {
   "cell_type": "markdown",
   "metadata": {},
   "source": [
    "For SEKEUR"
   ]
  },
  {
   "cell_type": "code",
   "execution_count": 100,
   "metadata": {},
   "outputs": [
    {
     "data": {
      "text/html": [
       "<div>\n",
       "<style scoped>\n",
       "    .dataframe tbody tr th:only-of-type {\n",
       "        vertical-align: middle;\n",
       "    }\n",
       "\n",
       "    .dataframe tbody tr th {\n",
       "        vertical-align: top;\n",
       "    }\n",
       "\n",
       "    .dataframe thead th {\n",
       "        text-align: right;\n",
       "    }\n",
       "</style>\n",
       "<table border=\"1\" class=\"dataframe\">\n",
       "  <thead>\n",
       "    <tr style=\"text-align: right;\">\n",
       "      <th></th>\n",
       "      <th>Date</th>\n",
       "      <th>HIGH</th>\n",
       "      <th>LOW</th>\n",
       "      <th>average</th>\n",
       "    </tr>\n",
       "  </thead>\n",
       "  <tbody>\n",
       "    <tr>\n",
       "      <th>0</th>\n",
       "      <td>07/03/2016 09:00</td>\n",
       "      <td>0.10725</td>\n",
       "      <td>0.10720</td>\n",
       "      <td>0.107225</td>\n",
       "    </tr>\n",
       "    <tr>\n",
       "      <th>1</th>\n",
       "      <td>07/03/2016 09:15</td>\n",
       "      <td>0.10728</td>\n",
       "      <td>0.10717</td>\n",
       "      <td>0.107225</td>\n",
       "    </tr>\n",
       "    <tr>\n",
       "      <th>2</th>\n",
       "      <td>07/03/2016 09:30</td>\n",
       "      <td>0.10726</td>\n",
       "      <td>0.10719</td>\n",
       "      <td>0.107225</td>\n",
       "    </tr>\n",
       "    <tr>\n",
       "      <th>3</th>\n",
       "      <td>07/03/2016 09:45</td>\n",
       "      <td>0.10728</td>\n",
       "      <td>0.10721</td>\n",
       "      <td>0.107245</td>\n",
       "    </tr>\n",
       "    <tr>\n",
       "      <th>4</th>\n",
       "      <td>07/03/2016 10:00</td>\n",
       "      <td>0.10725</td>\n",
       "      <td>0.10719</td>\n",
       "      <td>0.107220</td>\n",
       "    </tr>\n",
       "    <tr>\n",
       "      <th>...</th>\n",
       "      <td>...</td>\n",
       "      <td>...</td>\n",
       "      <td>...</td>\n",
       "      <td>...</td>\n",
       "    </tr>\n",
       "    <tr>\n",
       "      <th>12924</th>\n",
       "      <td>07/09/2016 17:00</td>\n",
       "      <td>0.10536</td>\n",
       "      <td>0.10531</td>\n",
       "      <td>0.105335</td>\n",
       "    </tr>\n",
       "    <tr>\n",
       "      <th>12925</th>\n",
       "      <td>07/09/2016 17:15</td>\n",
       "      <td>0.10537</td>\n",
       "      <td>0.10534</td>\n",
       "      <td>0.105355</td>\n",
       "    </tr>\n",
       "    <tr>\n",
       "      <th>12926</th>\n",
       "      <td>07/09/2016 17:30</td>\n",
       "      <td>0.10538</td>\n",
       "      <td>0.10536</td>\n",
       "      <td>0.105370</td>\n",
       "    </tr>\n",
       "    <tr>\n",
       "      <th>12927</th>\n",
       "      <td>07/09/2016 17:45</td>\n",
       "      <td>0.10537</td>\n",
       "      <td>0.10536</td>\n",
       "      <td>0.105365</td>\n",
       "    </tr>\n",
       "    <tr>\n",
       "      <th>12928</th>\n",
       "      <td>07/09/2016 18:00</td>\n",
       "      <td>0.10537</td>\n",
       "      <td>0.10537</td>\n",
       "      <td>0.105370</td>\n",
       "    </tr>\n",
       "  </tbody>\n",
       "</table>\n",
       "<p>12929 rows × 4 columns</p>\n",
       "</div>"
      ],
      "text/plain": [
       "                   Date     HIGH      LOW   average\n",
       "0      07/03/2016 09:00  0.10725  0.10720  0.107225\n",
       "1      07/03/2016 09:15  0.10728  0.10717  0.107225\n",
       "2      07/03/2016 09:30  0.10726  0.10719  0.107225\n",
       "3      07/03/2016 09:45  0.10728  0.10721  0.107245\n",
       "4      07/03/2016 10:00  0.10725  0.10719  0.107220\n",
       "...                 ...      ...      ...       ...\n",
       "12924  07/09/2016 17:00  0.10536  0.10531  0.105335\n",
       "12925  07/09/2016 17:15  0.10537  0.10534  0.105355\n",
       "12926  07/09/2016 17:30  0.10538  0.10536  0.105370\n",
       "12927  07/09/2016 17:45  0.10537  0.10536  0.105365\n",
       "12928  07/09/2016 18:00  0.10537  0.10537  0.105370\n",
       "\n",
       "[12929 rows x 4 columns]"
      ]
     },
     "execution_count": 100,
     "metadata": {},
     "output_type": "execute_result"
    }
   ],
   "source": [
    "data_S = pd.read_csv('TD5_SEKEUR.csv', sep=\t';', decimal=',', header = 1) \n",
    "data_S[\"average\"] = 0.5 * (data_S[\"HIGH\"] + data_S[\"LOW\"])\n",
    "data_S"
   ]
  },
  {
   "cell_type": "markdown",
   "metadata": {},
   "source": [
    "#### E.a)"
   ]
  },
  {
   "cell_type": "markdown",
   "metadata": {},
   "source": [
    "To answer question 2, we will also provide question 1 from the td, which we will use in questions 2/3"
   ]
  },
  {
   "cell_type": "markdown",
   "metadata": {},
   "source": [
    "Recall the theory: <br> $$\n",
    "\\Psi^{Haar} : t \\in \\mathbb{R} \\mapsto \\mathbf{1}_{[0, 1/2)}(t) - \\mathbf{1}_{[1/2, 2)}(t).\n",
    "$$\n"
   ]
  },
  {
   "cell_type": "markdown",
   "metadata": {},
   "source": [
    "Scaling Function $\\phi(x)$:\n",
    "For Daubechies wavelets (of which Haar is a special case), the scaling function is constructed recursively:\n",
    "$$\n",
    "\\phi(x) = \\sum_{k = 0}^{2N - 1} a_k \\phi(2x - k)\n",
    "$$"
   ]
  },
  {
   "cell_type": "markdown",
   "metadata": {},
   "source": [
    "In our case, there is zero vanishing moments so $N = 1$, giving :\n",
    "$$\n",
    "\\phi(x) = a_0 \\phi(2x) + a_1 \\phi(2x + 1)\n",
    "$$"
   ]
  },
  {
   "cell_type": "markdown",
   "metadata": {},
   "source": [
    "The normalization condition gives,\n",
    "$$\n",
    "\\int_{\\mathbb{R}} |\\phi(x)|^2 dx = 1 \\Leftrightarrow a_0^2 \\int_{\\mathbb{R}} |\\phi(2x)|^2 dx + a_1^2 \\int_{\\mathbb{R}} |\\phi(2x + 1)|^2 dx = a_0^2 + a_1^2 = 1 \\Leftrightarrow a_0 = a_1 = \\frac{1}{\\sqrt{2}}\n",
    "$$\n",
    "Because of the orthogonality of the decomposition, $\\|\\phi(x)\\|^2_{L^2} = \\|a_1\\phi(2x)\\|^2_{L^2} + \\|a_2\\phi(2x + 1)\\|^2_{L^2}$."
   ]
  },
  {
   "cell_type": "markdown",
   "metadata": {},
   "source": [
    "For the one level Haar transform :\n",
    "\n",
    "Consider an observation $X = (x_1, \\dots, x_n)$ where $n$ is even. The approximation coeficient are give by :\n",
    "$$\n",
    "a_{k - 1} = \\frac{x_{2k} + x_{2k + 1}}{\\sqrt{2}}\n",
    "$$\n",
    "The detail coefficient are :\n",
    "$$\n",
    "d_k = \\frac{x_{2k} - x_{2k + 1}}{\\sqrt{2}}.\n",
    "$$"
   ]
  },
  {
   "cell_type": "markdown",
   "metadata": {},
   "source": [
    "# "
   ]
  },
  {
   "cell_type": "markdown",
   "metadata": {},
   "source": [
    "We use the Haar transformation algorithm. We start with the one-level transformation :"
   ]
  },
  {
   "cell_type": "code",
   "execution_count": 101,
   "metadata": {},
   "outputs": [],
   "source": [
    "def haar_transform_single(signal):\n",
    "    n = len(signal)\n",
    "    if n % 2 != 0:\n",
    "        raise ValueError(\"Erreur\") \n",
    "    approximation = []\n",
    "    detail = []\n",
    "    for i in range(0, n, 2):\n",
    "        a = (signal[i] + signal[i + 1]) / np.sqrt(2)\n",
    "        d = (signal[i] - signal[i + 1]) / np.sqrt(2)\n",
    "        approximation.append(a)\n",
    "        detail.append(d)\n",
    "    \n",
    "    return np.array(approximation), np.array(detail) # Return the coefficients as numpy arrays"
   ]
  },
  {
   "cell_type": "markdown",
   "metadata": {},
   "source": [
    "Then, the recursive version :"
   ]
  },
  {
   "cell_type": "markdown",
   "metadata": {},
   "source": [
    "We first calculate the transformation at the first level, then generate an approximation. This approximation is then used as the starting point for a new application of the algorithm, which is used to obtain the next level, and so on."
   ]
  },
  {
   "cell_type": "code",
   "execution_count": 102,
   "metadata": {},
   "outputs": [],
   "source": [
    "def haar_transform_recursive(signal, max_levels = None):\n",
    "    coefficients = []\n",
    "    current_signal = signal\n",
    "    level = 0\n",
    "    \n",
    "    while len(current_signal) >= 2:\n",
    "        if max_levels is not None and level >= max_levels:\n",
    "            break  #if the desired number of levels is reached\n",
    "        \n",
    "        #check if the signal length is even by truncating if necessary\n",
    "        if len(current_signal) % 2 != 0:\n",
    "            current_signal = current_signal[:-1]  \n",
    "            \n",
    "        approximation, detail = haar_transform_single(current_signal)\n",
    "        coefficients.append((approximation, detail))\n",
    "        current_signal = approximation\n",
    "        level += 1 \n",
    "    \n",
    "    return coefficients # tupple (approximation/detail coeff)"
   ]
  },
  {
   "cell_type": "markdown",
   "metadata": {},
   "source": [
    "We can use the coefficient of our fx rate datasets to visualise the approximations and details of the coefficients"
   ]
  },
  {
   "cell_type": "markdown",
   "metadata": {},
   "source": [
    "Now let's go on to the correlation analysis"
   ]
  },
  {
   "cell_type": "markdown",
   "metadata": {},
   "source": [
    "We compute the coefficients of every dataset"
   ]
  },
  {
   "cell_type": "code",
   "execution_count": 103,
   "metadata": {},
   "outputs": [],
   "source": [
    "coefs_cadeur = haar_transform_recursive(data_C[\"average\"].iloc[1:].values)\n",
    "coefs_gbpeur = haar_transform_recursive(data_G[\"average\"].iloc[1:].values)\n",
    "coefs_sekeur = haar_transform_recursive(data_S[\"average\"].iloc[1:].values)"
   ]
  },
  {
   "cell_type": "code",
   "execution_count": 104,
   "metadata": {
    "scrolled": true
   },
   "outputs": [
    {
     "name": "stderr",
     "output_type": "stream",
     "text": [
      "/opt/anaconda3/lib/python3.11/site-packages/numpy/lib/function_base.py:2889: RuntimeWarning: Degrees of freedom <= 0 for slice\n",
      "  c = cov(x, y, rowvar, dtype=dtype)\n",
      "/opt/anaconda3/lib/python3.11/site-packages/numpy/lib/function_base.py:2748: RuntimeWarning: divide by zero encountered in divide\n",
      "  c *= np.true_divide(1, fact)\n",
      "/opt/anaconda3/lib/python3.11/site-packages/numpy/lib/function_base.py:2748: RuntimeWarning: invalid value encountered in multiply\n",
      "  c *= np.true_divide(1, fact)\n"
     ]
    },
    {
     "data": {
      "text/html": [
       "<div>\n",
       "<style scoped>\n",
       "    .dataframe tbody tr th:only-of-type {\n",
       "        vertical-align: middle;\n",
       "    }\n",
       "\n",
       "    .dataframe tbody tr th {\n",
       "        vertical-align: top;\n",
       "    }\n",
       "\n",
       "    .dataframe thead th {\n",
       "        text-align: right;\n",
       "    }\n",
       "</style>\n",
       "<table border=\"1\" class=\"dataframe\">\n",
       "  <thead>\n",
       "    <tr style=\"text-align: right;\">\n",
       "      <th></th>\n",
       "      <th>Level</th>\n",
       "      <th>CADEUR-GBPEUR</th>\n",
       "      <th>CADEUR-SEKEUR</th>\n",
       "      <th>GBPEUR-SEKEUR</th>\n",
       "    </tr>\n",
       "  </thead>\n",
       "  <tbody>\n",
       "    <tr>\n",
       "      <th>0</th>\n",
       "      <td>1</td>\n",
       "      <td>-0.226949</td>\n",
       "      <td>-0.135290</td>\n",
       "      <td>0.814780</td>\n",
       "    </tr>\n",
       "    <tr>\n",
       "      <th>1</th>\n",
       "      <td>2</td>\n",
       "      <td>-0.227190</td>\n",
       "      <td>-0.135506</td>\n",
       "      <td>0.814931</td>\n",
       "    </tr>\n",
       "    <tr>\n",
       "      <th>2</th>\n",
       "      <td>3</td>\n",
       "      <td>-0.227569</td>\n",
       "      <td>-0.135822</td>\n",
       "      <td>0.815184</td>\n",
       "    </tr>\n",
       "    <tr>\n",
       "      <th>3</th>\n",
       "      <td>4</td>\n",
       "      <td>-0.228495</td>\n",
       "      <td>-0.136924</td>\n",
       "      <td>0.815621</td>\n",
       "    </tr>\n",
       "    <tr>\n",
       "      <th>4</th>\n",
       "      <td>5</td>\n",
       "      <td>-0.229264</td>\n",
       "      <td>-0.137762</td>\n",
       "      <td>0.816206</td>\n",
       "    </tr>\n",
       "    <tr>\n",
       "      <th>5</th>\n",
       "      <td>6</td>\n",
       "      <td>-0.232206</td>\n",
       "      <td>-0.139938</td>\n",
       "      <td>0.817475</td>\n",
       "    </tr>\n",
       "    <tr>\n",
       "      <th>6</th>\n",
       "      <td>7</td>\n",
       "      <td>-0.241440</td>\n",
       "      <td>-0.151158</td>\n",
       "      <td>0.820864</td>\n",
       "    </tr>\n",
       "    <tr>\n",
       "      <th>7</th>\n",
       "      <td>8</td>\n",
       "      <td>-0.246501</td>\n",
       "      <td>-0.153196</td>\n",
       "      <td>0.825356</td>\n",
       "    </tr>\n",
       "    <tr>\n",
       "      <th>8</th>\n",
       "      <td>9</td>\n",
       "      <td>-0.274767</td>\n",
       "      <td>-0.183006</td>\n",
       "      <td>0.833338</td>\n",
       "    </tr>\n",
       "    <tr>\n",
       "      <th>9</th>\n",
       "      <td>10</td>\n",
       "      <td>-0.316037</td>\n",
       "      <td>-0.270196</td>\n",
       "      <td>0.854566</td>\n",
       "    </tr>\n",
       "    <tr>\n",
       "      <th>10</th>\n",
       "      <td>11</td>\n",
       "      <td>-0.493993</td>\n",
       "      <td>-0.398831</td>\n",
       "      <td>0.892320</td>\n",
       "    </tr>\n",
       "    <tr>\n",
       "      <th>11</th>\n",
       "      <td>12</td>\n",
       "      <td>-0.843762</td>\n",
       "      <td>-0.982279</td>\n",
       "      <td>0.929403</td>\n",
       "    </tr>\n",
       "    <tr>\n",
       "      <th>12</th>\n",
       "      <td>13</td>\n",
       "      <td>NaN</td>\n",
       "      <td>NaN</td>\n",
       "      <td>NaN</td>\n",
       "    </tr>\n",
       "  </tbody>\n",
       "</table>\n",
       "</div>"
      ],
      "text/plain": [
       "    Level  CADEUR-GBPEUR  CADEUR-SEKEUR  GBPEUR-SEKEUR\n",
       "0       1      -0.226949      -0.135290       0.814780\n",
       "1       2      -0.227190      -0.135506       0.814931\n",
       "2       3      -0.227569      -0.135822       0.815184\n",
       "3       4      -0.228495      -0.136924       0.815621\n",
       "4       5      -0.229264      -0.137762       0.816206\n",
       "5       6      -0.232206      -0.139938       0.817475\n",
       "6       7      -0.241440      -0.151158       0.820864\n",
       "7       8      -0.246501      -0.153196       0.825356\n",
       "8       9      -0.274767      -0.183006       0.833338\n",
       "9      10      -0.316037      -0.270196       0.854566\n",
       "10     11      -0.493993      -0.398831       0.892320\n",
       "11     12      -0.843762      -0.982279       0.929403\n",
       "12     13            NaN            NaN            NaN"
      ]
     },
     "execution_count": 104,
     "metadata": {},
     "output_type": "execute_result"
    }
   ],
   "source": [
    "correlations = []\n",
    "for level, (coef_cadeur, coef_gbpeur, coef_sekeur) in enumerate(zip(coefs_cadeur, coefs_gbpeur, coefs_sekeur)):\n",
    "    #we only extract approximation\n",
    "    approx_cadeur, _ = coef_cadeur\n",
    "    approx_gbpeur, _ = coef_gbpeur\n",
    "    approx_sekeur, _ = coef_sekeur\n",
    "    corr_cadeur_gbpeur = np.corrcoef(approx_cadeur, approx_gbpeur)[0, 1]\n",
    "    corr_cadeur_sekeur = np.corrcoef(approx_cadeur, approx_sekeur)[0, 1]\n",
    "    corr_gbpeur_sekeur = np.corrcoef(approx_gbpeur, approx_sekeur)[0, 1]\n",
    "    correlations.append({\"Level\": level + 1, \"CADEUR-GBPEUR\": corr_cadeur_gbpeur, \"CADEUR-SEKEUR\": corr_cadeur_sekeur, \"GBPEUR-SEKEUR\": corr_gbpeur_sekeur})\n",
    "\n",
    "correlation_df = pd.DataFrame(correlations)\n",
    "correlation_df"
   ]
  },
  {
   "cell_type": "markdown",
   "metadata": {},
   "source": [
    "Higher level $\\Leftrightarrow$ Larger time intervals. We see a clear decrease in the correlations factors so we do in fact observe the Epps effect."
   ]
  },
  {
   "cell_type": "markdown",
   "metadata": {},
   "source": [
    "#### E.b)"
   ]
  },
  {
   "cell_type": "markdown",
   "metadata": {},
   "source": [
    "Recall the theory "
   ]
  },
  {
   "cell_type": "markdown",
   "metadata": {},
   "source": [
    "We define empirical absolute moments on our sample \\([0, T]\\) with \\(1/N\\) spacings:\n",
    "\n",
    "$$\n",
    "M_k = \\frac{1}{NT} \\sum_{i=1}^{NT} \\left| X\\left(\\frac{i}{N}\\right) - X\\left(\\frac{i-1}{N}\\right) \\right|^k\n",
    "$$\n",
    "\n",
    "Therefore we defined,\n",
    "$$\n",
    "M_2 = \\frac{1}{NT} \\sum_{i=1}^{NT} \\left| X\\left(\\frac{i}{N}\\right) - X\\left(\\frac{i-1}{N}\\right) \\right|^2\n",
    "$$\n",
    "and,\n",
    "$$\n",
    "M_2' = \\frac{2}{NT} \\sum_{i=1}^{NT/2} \\left| X\\left(\\frac{2i}{N}\\right) - X\\left(\\frac{2(i-1)}{N}\\right) \\right|^2\n",
    "$$\n",
    "\n",
    "The estimator of \\(H\\) is defined as:\n",
    "\n",
    "$$\n",
    "\\hat{H} = \\frac{1}{2} \\log_2 \\left(\\frac{M_2'}{M_2}\\right).\n",
    "$$\n",
    "\n",
    "Thus:\n",
    "\n",
    "$$\n",
    "\\hat{H} \\xrightarrow{\\text{P}} H \\quad \\text{as } N \\to \\infty.\n",
    "$$\n"
   ]
  },
  {
   "cell_type": "markdown",
   "metadata": {},
   "source": [
    "Let's implement this"
   ]
  },
  {
   "cell_type": "code",
   "execution_count": 105,
   "metadata": {},
   "outputs": [],
   "source": [
    "def hurst_exponent_estimator(data, N = None):   \n",
    "    if N is None:\n",
    "        N = len(data) - 1  # Default to all available increments\n",
    "    \n",
    "    M2_sum = 0\n",
    "    for i in range(1, len(data)):\n",
    "        increment = data[i] - data[i - 1]\n",
    "        M2_sum += abs(increment)**2\n",
    "    M2 = M2_sum / N  \n",
    "    \n",
    "    M2_prime_sum = 0\n",
    "    for i in range(2, len(data), 2):\n",
    "        increment2 = data[i] - data[i - 2]\n",
    "        M2_prime_sum += abs(increment2)**2\n",
    "    M2_prime = M2_prime_sum / (N // 2) \n",
    "    \n",
    "    if M2 <= 0 or M2_prime <= 0:\n",
    "        raise ValueError(f\"Invalid values for M2: {M2}, M2_prime: {M2_prime}\")\n",
    "    \n",
    "\n",
    "    H = 0.5 * np.log2(M2_prime / M2)\n",
    "    return H"
   ]
  },
  {
   "cell_type": "markdown",
   "metadata": {},
   "source": [
    "Therefore we can compute the hurst exponent estimator for our 3 dataset"
   ]
  },
  {
   "cell_type": "code",
   "execution_count": 106,
   "metadata": {},
   "outputs": [
    {
     "data": {
      "text/plain": [
       "0.6552439913406071"
      ]
     },
     "execution_count": 106,
     "metadata": {},
     "output_type": "execute_result"
    }
   ],
   "source": [
    "hurst_exponent_estimator(data_C[\"average\"])"
   ]
  },
  {
   "cell_type": "code",
   "execution_count": 107,
   "metadata": {},
   "outputs": [
    {
     "data": {
      "text/plain": [
       "0.6714143303551333"
      ]
     },
     "execution_count": 107,
     "metadata": {},
     "output_type": "execute_result"
    }
   ],
   "source": [
    "hurst_exponent_estimator(data_G[\"average\"])"
   ]
  },
  {
   "cell_type": "code",
   "execution_count": 108,
   "metadata": {},
   "outputs": [
    {
     "data": {
      "text/plain": [
       "0.6545913434209861"
      ]
     },
     "execution_count": 108,
     "metadata": {},
     "output_type": "execute_result"
    }
   ],
   "source": [
    "hurst_exponent_estimator(data_S[\"average\"])"
   ]
  },
  {
   "cell_type": "markdown",
   "metadata": {},
   "source": [
    "For volatility, we start by calculating the price returns for the 3 datasets"
   ]
  },
  {
   "cell_type": "code",
   "execution_count": 109,
   "metadata": {},
   "outputs": [
    {
     "data": {
      "text/html": [
       "<div>\n",
       "<style scoped>\n",
       "    .dataframe tbody tr th:only-of-type {\n",
       "        vertical-align: middle;\n",
       "    }\n",
       "\n",
       "    .dataframe tbody tr th {\n",
       "        vertical-align: top;\n",
       "    }\n",
       "\n",
       "    .dataframe thead th {\n",
       "        text-align: right;\n",
       "    }\n",
       "</style>\n",
       "<table border=\"1\" class=\"dataframe\">\n",
       "  <thead>\n",
       "    <tr style=\"text-align: right;\">\n",
       "      <th></th>\n",
       "      <th>Date</th>\n",
       "      <th>HIGH</th>\n",
       "      <th>LOW</th>\n",
       "      <th>average</th>\n",
       "      <th>price_return</th>\n",
       "    </tr>\n",
       "  </thead>\n",
       "  <tbody>\n",
       "    <tr>\n",
       "      <th>0</th>\n",
       "      <td>07/03/2016 09:00</td>\n",
       "      <td>0.6842</td>\n",
       "      <td>0.6829</td>\n",
       "      <td>0.68355</td>\n",
       "      <td>NaN</td>\n",
       "    </tr>\n",
       "    <tr>\n",
       "      <th>1</th>\n",
       "      <td>07/03/2016 09:15</td>\n",
       "      <td>0.6849</td>\n",
       "      <td>0.6841</td>\n",
       "      <td>0.68450</td>\n",
       "      <td>0.001390</td>\n",
       "    </tr>\n",
       "    <tr>\n",
       "      <th>2</th>\n",
       "      <td>07/03/2016 09:30</td>\n",
       "      <td>0.6844</td>\n",
       "      <td>0.6837</td>\n",
       "      <td>0.68405</td>\n",
       "      <td>-0.000657</td>\n",
       "    </tr>\n",
       "    <tr>\n",
       "      <th>3</th>\n",
       "      <td>07/03/2016 09:45</td>\n",
       "      <td>0.6844</td>\n",
       "      <td>0.6839</td>\n",
       "      <td>0.68415</td>\n",
       "      <td>0.000146</td>\n",
       "    </tr>\n",
       "    <tr>\n",
       "      <th>4</th>\n",
       "      <td>07/03/2016 10:00</td>\n",
       "      <td>0.6840</td>\n",
       "      <td>0.6835</td>\n",
       "      <td>0.68375</td>\n",
       "      <td>-0.000585</td>\n",
       "    </tr>\n",
       "    <tr>\n",
       "      <th>...</th>\n",
       "      <td>...</td>\n",
       "      <td>...</td>\n",
       "      <td>...</td>\n",
       "      <td>...</td>\n",
       "      <td>...</td>\n",
       "    </tr>\n",
       "    <tr>\n",
       "      <th>12924</th>\n",
       "      <td>07/09/2016 17:00</td>\n",
       "      <td>0.6897</td>\n",
       "      <td>0.6893</td>\n",
       "      <td>0.68950</td>\n",
       "      <td>0.000363</td>\n",
       "    </tr>\n",
       "    <tr>\n",
       "      <th>12925</th>\n",
       "      <td>07/09/2016 17:15</td>\n",
       "      <td>0.6902</td>\n",
       "      <td>0.6895</td>\n",
       "      <td>0.68985</td>\n",
       "      <td>0.000508</td>\n",
       "    </tr>\n",
       "    <tr>\n",
       "      <th>12926</th>\n",
       "      <td>07/09/2016 17:30</td>\n",
       "      <td>0.6902</td>\n",
       "      <td>0.6898</td>\n",
       "      <td>0.69000</td>\n",
       "      <td>0.000217</td>\n",
       "    </tr>\n",
       "    <tr>\n",
       "      <th>12927</th>\n",
       "      <td>07/09/2016 17:45</td>\n",
       "      <td>0.6902</td>\n",
       "      <td>0.6901</td>\n",
       "      <td>0.69015</td>\n",
       "      <td>0.000217</td>\n",
       "    </tr>\n",
       "    <tr>\n",
       "      <th>12928</th>\n",
       "      <td>07/09/2016 18:00</td>\n",
       "      <td>0.6901</td>\n",
       "      <td>0.6901</td>\n",
       "      <td>0.69010</td>\n",
       "      <td>-0.000072</td>\n",
       "    </tr>\n",
       "  </tbody>\n",
       "</table>\n",
       "<p>12929 rows × 5 columns</p>\n",
       "</div>"
      ],
      "text/plain": [
       "                   Date    HIGH     LOW  average  price_return\n",
       "0      07/03/2016 09:00  0.6842  0.6829  0.68355           NaN\n",
       "1      07/03/2016 09:15  0.6849  0.6841  0.68450      0.001390\n",
       "2      07/03/2016 09:30  0.6844  0.6837  0.68405     -0.000657\n",
       "3      07/03/2016 09:45  0.6844  0.6839  0.68415      0.000146\n",
       "4      07/03/2016 10:00  0.6840  0.6835  0.68375     -0.000585\n",
       "...                 ...     ...     ...      ...           ...\n",
       "12924  07/09/2016 17:00  0.6897  0.6893  0.68950      0.000363\n",
       "12925  07/09/2016 17:15  0.6902  0.6895  0.68985      0.000508\n",
       "12926  07/09/2016 17:30  0.6902  0.6898  0.69000      0.000217\n",
       "12927  07/09/2016 17:45  0.6902  0.6901  0.69015      0.000217\n",
       "12928  07/09/2016 18:00  0.6901  0.6901  0.69010     -0.000072\n",
       "\n",
       "[12929 rows x 5 columns]"
      ]
     },
     "execution_count": 109,
     "metadata": {},
     "output_type": "execute_result"
    }
   ],
   "source": [
    "data_C[\"price_return\"] = data_C[\"average\"].pct_change()\n",
    "data_C"
   ]
  },
  {
   "cell_type": "code",
   "execution_count": 110,
   "metadata": {},
   "outputs": [
    {
     "data": {
      "text/html": [
       "<div>\n",
       "<style scoped>\n",
       "    .dataframe tbody tr th:only-of-type {\n",
       "        vertical-align: middle;\n",
       "    }\n",
       "\n",
       "    .dataframe tbody tr th {\n",
       "        vertical-align: top;\n",
       "    }\n",
       "\n",
       "    .dataframe thead th {\n",
       "        text-align: right;\n",
       "    }\n",
       "</style>\n",
       "<table border=\"1\" class=\"dataframe\">\n",
       "  <thead>\n",
       "    <tr style=\"text-align: right;\">\n",
       "      <th></th>\n",
       "      <th>Date</th>\n",
       "      <th>HIGH</th>\n",
       "      <th>LOW</th>\n",
       "      <th>average</th>\n",
       "      <th>price_return</th>\n",
       "    </tr>\n",
       "  </thead>\n",
       "  <tbody>\n",
       "    <tr>\n",
       "      <th>0</th>\n",
       "      <td>07/03/2016 09:00</td>\n",
       "      <td>1.2932</td>\n",
       "      <td>1.2917</td>\n",
       "      <td>1.29245</td>\n",
       "      <td>NaN</td>\n",
       "    </tr>\n",
       "    <tr>\n",
       "      <th>1</th>\n",
       "      <td>07/03/2016 09:15</td>\n",
       "      <td>1.2940</td>\n",
       "      <td>1.2930</td>\n",
       "      <td>1.29350</td>\n",
       "      <td>0.000812</td>\n",
       "    </tr>\n",
       "    <tr>\n",
       "      <th>2</th>\n",
       "      <td>07/03/2016 09:30</td>\n",
       "      <td>1.2943</td>\n",
       "      <td>1.2922</td>\n",
       "      <td>1.29325</td>\n",
       "      <td>-0.000193</td>\n",
       "    </tr>\n",
       "    <tr>\n",
       "      <th>3</th>\n",
       "      <td>07/03/2016 09:45</td>\n",
       "      <td>1.2930</td>\n",
       "      <td>1.2913</td>\n",
       "      <td>1.29215</td>\n",
       "      <td>-0.000851</td>\n",
       "    </tr>\n",
       "    <tr>\n",
       "      <th>4</th>\n",
       "      <td>07/03/2016 10:00</td>\n",
       "      <td>1.2931</td>\n",
       "      <td>1.2921</td>\n",
       "      <td>1.29260</td>\n",
       "      <td>0.000348</td>\n",
       "    </tr>\n",
       "    <tr>\n",
       "      <th>...</th>\n",
       "      <td>...</td>\n",
       "      <td>...</td>\n",
       "      <td>...</td>\n",
       "      <td>...</td>\n",
       "      <td>...</td>\n",
       "    </tr>\n",
       "    <tr>\n",
       "      <th>12924</th>\n",
       "      <td>07/09/2016 17:00</td>\n",
       "      <td>1.1879</td>\n",
       "      <td>1.1867</td>\n",
       "      <td>1.18730</td>\n",
       "      <td>-0.000589</td>\n",
       "    </tr>\n",
       "    <tr>\n",
       "      <th>12925</th>\n",
       "      <td>07/09/2016 17:15</td>\n",
       "      <td>1.1883</td>\n",
       "      <td>1.1874</td>\n",
       "      <td>1.18785</td>\n",
       "      <td>0.000463</td>\n",
       "    </tr>\n",
       "    <tr>\n",
       "      <th>12926</th>\n",
       "      <td>07/09/2016 17:30</td>\n",
       "      <td>1.1880</td>\n",
       "      <td>1.1874</td>\n",
       "      <td>1.18770</td>\n",
       "      <td>-0.000126</td>\n",
       "    </tr>\n",
       "    <tr>\n",
       "      <th>12927</th>\n",
       "      <td>07/09/2016 17:45</td>\n",
       "      <td>1.1874</td>\n",
       "      <td>1.1866</td>\n",
       "      <td>1.18700</td>\n",
       "      <td>-0.000589</td>\n",
       "    </tr>\n",
       "    <tr>\n",
       "      <th>12928</th>\n",
       "      <td>07/09/2016 18:00</td>\n",
       "      <td>1.1870</td>\n",
       "      <td>1.1869</td>\n",
       "      <td>1.18695</td>\n",
       "      <td>-0.000042</td>\n",
       "    </tr>\n",
       "  </tbody>\n",
       "</table>\n",
       "<p>12929 rows × 5 columns</p>\n",
       "</div>"
      ],
      "text/plain": [
       "                   Date    HIGH     LOW  average  price_return\n",
       "0      07/03/2016 09:00  1.2932  1.2917  1.29245           NaN\n",
       "1      07/03/2016 09:15  1.2940  1.2930  1.29350      0.000812\n",
       "2      07/03/2016 09:30  1.2943  1.2922  1.29325     -0.000193\n",
       "3      07/03/2016 09:45  1.2930  1.2913  1.29215     -0.000851\n",
       "4      07/03/2016 10:00  1.2931  1.2921  1.29260      0.000348\n",
       "...                 ...     ...     ...      ...           ...\n",
       "12924  07/09/2016 17:00  1.1879  1.1867  1.18730     -0.000589\n",
       "12925  07/09/2016 17:15  1.1883  1.1874  1.18785      0.000463\n",
       "12926  07/09/2016 17:30  1.1880  1.1874  1.18770     -0.000126\n",
       "12927  07/09/2016 17:45  1.1874  1.1866  1.18700     -0.000589\n",
       "12928  07/09/2016 18:00  1.1870  1.1869  1.18695     -0.000042\n",
       "\n",
       "[12929 rows x 5 columns]"
      ]
     },
     "execution_count": 110,
     "metadata": {},
     "output_type": "execute_result"
    }
   ],
   "source": [
    "data_G[\"price_return\"] = data_G[\"average\"].pct_change()\n",
    "data_G"
   ]
  },
  {
   "cell_type": "code",
   "execution_count": 111,
   "metadata": {
    "scrolled": true
   },
   "outputs": [
    {
     "data": {
      "text/html": [
       "<div>\n",
       "<style scoped>\n",
       "    .dataframe tbody tr th:only-of-type {\n",
       "        vertical-align: middle;\n",
       "    }\n",
       "\n",
       "    .dataframe tbody tr th {\n",
       "        vertical-align: top;\n",
       "    }\n",
       "\n",
       "    .dataframe thead th {\n",
       "        text-align: right;\n",
       "    }\n",
       "</style>\n",
       "<table border=\"1\" class=\"dataframe\">\n",
       "  <thead>\n",
       "    <tr style=\"text-align: right;\">\n",
       "      <th></th>\n",
       "      <th>Date</th>\n",
       "      <th>HIGH</th>\n",
       "      <th>LOW</th>\n",
       "      <th>average</th>\n",
       "      <th>price_return</th>\n",
       "    </tr>\n",
       "  </thead>\n",
       "  <tbody>\n",
       "    <tr>\n",
       "      <th>0</th>\n",
       "      <td>07/03/2016 09:00</td>\n",
       "      <td>0.10725</td>\n",
       "      <td>0.10720</td>\n",
       "      <td>0.107225</td>\n",
       "      <td>NaN</td>\n",
       "    </tr>\n",
       "    <tr>\n",
       "      <th>1</th>\n",
       "      <td>07/03/2016 09:15</td>\n",
       "      <td>0.10728</td>\n",
       "      <td>0.10717</td>\n",
       "      <td>0.107225</td>\n",
       "      <td>0.000000e+00</td>\n",
       "    </tr>\n",
       "    <tr>\n",
       "      <th>2</th>\n",
       "      <td>07/03/2016 09:30</td>\n",
       "      <td>0.10726</td>\n",
       "      <td>0.10719</td>\n",
       "      <td>0.107225</td>\n",
       "      <td>-1.110223e-16</td>\n",
       "    </tr>\n",
       "    <tr>\n",
       "      <th>3</th>\n",
       "      <td>07/03/2016 09:45</td>\n",
       "      <td>0.10728</td>\n",
       "      <td>0.10721</td>\n",
       "      <td>0.107245</td>\n",
       "      <td>1.865237e-04</td>\n",
       "    </tr>\n",
       "    <tr>\n",
       "      <th>4</th>\n",
       "      <td>07/03/2016 10:00</td>\n",
       "      <td>0.10725</td>\n",
       "      <td>0.10719</td>\n",
       "      <td>0.107220</td>\n",
       "      <td>-2.331111e-04</td>\n",
       "    </tr>\n",
       "    <tr>\n",
       "      <th>...</th>\n",
       "      <td>...</td>\n",
       "      <td>...</td>\n",
       "      <td>...</td>\n",
       "      <td>...</td>\n",
       "      <td>...</td>\n",
       "    </tr>\n",
       "    <tr>\n",
       "      <th>12924</th>\n",
       "      <td>07/09/2016 17:00</td>\n",
       "      <td>0.10536</td>\n",
       "      <td>0.10531</td>\n",
       "      <td>0.105335</td>\n",
       "      <td>1.424231e-04</td>\n",
       "    </tr>\n",
       "    <tr>\n",
       "      <th>12925</th>\n",
       "      <td>07/09/2016 17:15</td>\n",
       "      <td>0.10537</td>\n",
       "      <td>0.10534</td>\n",
       "      <td>0.105355</td>\n",
       "      <td>1.898704e-04</td>\n",
       "    </tr>\n",
       "    <tr>\n",
       "      <th>12926</th>\n",
       "      <td>07/09/2016 17:30</td>\n",
       "      <td>0.10538</td>\n",
       "      <td>0.10536</td>\n",
       "      <td>0.105370</td>\n",
       "      <td>1.423758e-04</td>\n",
       "    </tr>\n",
       "    <tr>\n",
       "      <th>12927</th>\n",
       "      <td>07/09/2016 17:45</td>\n",
       "      <td>0.10537</td>\n",
       "      <td>0.10536</td>\n",
       "      <td>0.105365</td>\n",
       "      <td>-4.745184e-05</td>\n",
       "    </tr>\n",
       "    <tr>\n",
       "      <th>12928</th>\n",
       "      <td>07/09/2016 18:00</td>\n",
       "      <td>0.10537</td>\n",
       "      <td>0.10537</td>\n",
       "      <td>0.105370</td>\n",
       "      <td>4.745409e-05</td>\n",
       "    </tr>\n",
       "  </tbody>\n",
       "</table>\n",
       "<p>12929 rows × 5 columns</p>\n",
       "</div>"
      ],
      "text/plain": [
       "                   Date     HIGH      LOW   average  price_return\n",
       "0      07/03/2016 09:00  0.10725  0.10720  0.107225           NaN\n",
       "1      07/03/2016 09:15  0.10728  0.10717  0.107225  0.000000e+00\n",
       "2      07/03/2016 09:30  0.10726  0.10719  0.107225 -1.110223e-16\n",
       "3      07/03/2016 09:45  0.10728  0.10721  0.107245  1.865237e-04\n",
       "4      07/03/2016 10:00  0.10725  0.10719  0.107220 -2.331111e-04\n",
       "...                 ...      ...      ...       ...           ...\n",
       "12924  07/09/2016 17:00  0.10536  0.10531  0.105335  1.424231e-04\n",
       "12925  07/09/2016 17:15  0.10537  0.10534  0.105355  1.898704e-04\n",
       "12926  07/09/2016 17:30  0.10538  0.10536  0.105370  1.423758e-04\n",
       "12927  07/09/2016 17:45  0.10537  0.10536  0.105365 -4.745184e-05\n",
       "12928  07/09/2016 18:00  0.10537  0.10537  0.105370  4.745409e-05\n",
       "\n",
       "[12929 rows x 5 columns]"
      ]
     },
     "execution_count": 111,
     "metadata": {},
     "output_type": "execute_result"
    }
   ],
   "source": [
    "data_S[\"price_return\"] = data_S[\"average\"].pct_change()\n",
    "data_S"
   ]
  },
  {
   "cell_type": "markdown",
   "metadata": {},
   "source": [
    "The annualized volatility scales as:\n",
    "\n",
    "$$\n",
    "\\delta^H, \\quad \\text{where } H \\in (0, 1)\\quad \\text{and} \\quad \\delta \\quad \\text{the annualization factor}\n",
    "$$"
   ]
  },
  {
   "cell_type": "markdown",
   "metadata": {},
   "source": [
    "Therefore we implement, considering that we have observed 4 observations/hours per day and 252 days per year"
   ]
  },
  {
   "cell_type": "markdown",
   "metadata": {},
   "source": [
    "and as we have: \n",
    "$$\n",
    "\\sigma_Y^2=\\sigma_d^2\\delta^H\n",
    "$$\n",
    "Where :\n",
    "- $\\sigma_Y$ : annualized volatily of our datasets\n",
    "- $ \\delta$ : the annualization factor\n",
    "- $\\sigma_d$ : the volalitiy of our price returns\n",
    "- $H$ : the hurst exponent\n"
   ]
  },
  {
   "cell_type": "markdown",
   "metadata": {},
   "source": [
    "So we compute the annualization"
   ]
  },
  {
   "cell_type": "code",
   "execution_count": 112,
   "metadata": {},
   "outputs": [],
   "source": [
    "def annualized_vol(avg, data):\n",
    "    hurst_exp = hurst_exponent_estimator(avg)\n",
    "    vol = np.std(data) \n",
    "    return vol * ((np.sqrt(4*24*252)) ** hurst_exp)"
   ]
  },
  {
   "cell_type": "markdown",
   "metadata": {},
   "source": [
    "For CADEUR"
   ]
  },
  {
   "cell_type": "code",
   "execution_count": 113,
   "metadata": {},
   "outputs": [
    {
     "data": {
      "text/plain": [
       "0.013821663952296493"
      ]
     },
     "execution_count": 113,
     "metadata": {},
     "output_type": "execute_result"
    }
   ],
   "source": [
    "annualized_vol(data_C[\"average\"], data_C[\"price_return\"])"
   ]
  },
  {
   "cell_type": "markdown",
   "metadata": {},
   "source": [
    "For GBPEUR"
   ]
  },
  {
   "cell_type": "code",
   "execution_count": 114,
   "metadata": {},
   "outputs": [
    {
     "data": {
      "text/plain": [
       "0.01846254342256928"
      ]
     },
     "execution_count": 114,
     "metadata": {},
     "output_type": "execute_result"
    }
   ],
   "source": [
    "annualized_vol(data_G[\"average\"], data_G[\"price_return\"])"
   ]
  },
  {
   "cell_type": "markdown",
   "metadata": {},
   "source": [
    "For SEKEUR"
   ]
  },
  {
   "cell_type": "code",
   "execution_count": 115,
   "metadata": {},
   "outputs": [
    {
     "data": {
      "text/plain": [
       "0.00890146919520892"
      ]
     },
     "execution_count": 115,
     "metadata": {},
     "output_type": "execute_result"
    }
   ],
   "source": [
    "annualized_vol(data_S[\"average\"], data_S[\"price_return\"])"
   ]
  },
  {
   "cell_type": "code",
   "execution_count": null,
   "metadata": {},
   "outputs": [],
   "source": []
  }
 ],
 "metadata": {
  "kernelspec": {
   "display_name": "Python 3 (ipykernel)",
   "language": "python",
   "name": "python3"
  },
  "language_info": {
   "codemirror_mode": {
    "name": "ipython",
    "version": 3
   },
   "file_extension": ".py",
   "mimetype": "text/x-python",
   "name": "python",
   "nbconvert_exporter": "python",
   "pygments_lexer": "ipython3",
   "version": "3.11.7"
  }
 },
 "nbformat": 4,
 "nbformat_minor": 4
}
